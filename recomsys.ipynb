{
 "cells": [
  {
   "cell_type": "markdown",
   "id": "9cb23728",
   "metadata": {},
   "source": [
    "## Problem Set 4\n",
    "### Recommendation System Analysis and Implementation\n",
    "#### Jiashu Chen\n",
    "#### 03/05/2023"
   ]
  },
  {
   "cell_type": "markdown",
   "id": "5fb5aa6d",
   "metadata": {},
   "source": [
    "### Content"
   ]
  },
  {
   "cell_type": "markdown",
   "id": "b7bbcd67",
   "metadata": {},
   "source": [
    "#### Question 1: DataSet"
   ]
  },
  {
   "cell_type": "markdown",
   "id": "71555c8c",
   "metadata": {},
   "source": [
    "The dataset I chose is the MovieLens dataset. It is one of the most popular dataset used for recommendation system."
   ]
  },
  {
   "cell_type": "markdown",
   "id": "0fae3ffd",
   "metadata": {},
   "source": [
    "#### Question 2: Research Questions"
   ]
  },
  {
   "cell_type": "code",
   "execution_count": 2,
   "id": "bc9e0e9a",
   "metadata": {},
   "outputs": [],
   "source": [
    "import numpy as np\n",
    "import pandas as pd\n",
    "import matplotlib.pyplot as plt\n",
    "import timeit"
   ]
  },
  {
   "cell_type": "markdown",
   "id": "44a3db4f",
   "metadata": {},
   "source": [
    "### Part I: Import Data"
   ]
  },
  {
   "cell_type": "code",
   "execution_count": 3,
   "id": "24b0196b",
   "metadata": {},
   "outputs": [],
   "source": [
    "col_names = ['user_id', \"item_id\", \"rating\", \"timestamp\"]\n",
    "data = pd.read_csv(\"/Users/jiashu/Desktop/574Final/ml-100k/u.data\", sep = '\\t', header = None, names = col_names)"
   ]
  },
  {
   "cell_type": "code",
   "execution_count": 4,
   "id": "978f89b6",
   "metadata": {},
   "outputs": [],
   "source": [
    "d = 'movie id | movie title | release date | video release date | IMDb URL | unknown | Action | Adventure | Animation | Children | Comedy | Crime | Documentary | Drama | Fantasy | Film-Noir | Horror | Musical | Mystery | Romance | Sci-Fi | Thriller | War | Western'\n",
    "col_names2 = d.split(' | ')\n",
    "items = pd.read_csv(\"/Users/jiashu/Desktop/574Final/ml-100k/u.item\", sep = '|', header = None, names = col_names2)\n",
    "movies = items[[\"movie id\", \"movie title\"]]\n",
    "movies = movies.rename(columns = {\"movie id\" : \"item_id\", \"movie title\" : \"movie_title\"})\n",
    "df = pd.merge(data, movies, on = 'item_id')"
   ]
  },
  {
   "cell_type": "code",
   "execution_count": 5,
   "id": "68f2f7c2",
   "metadata": {},
   "outputs": [
    {
     "data": {
      "text/html": [
       "<div>\n",
       "<style scoped>\n",
       "    .dataframe tbody tr th:only-of-type {\n",
       "        vertical-align: middle;\n",
       "    }\n",
       "\n",
       "    .dataframe tbody tr th {\n",
       "        vertical-align: top;\n",
       "    }\n",
       "\n",
       "    .dataframe thead th {\n",
       "        text-align: right;\n",
       "    }\n",
       "</style>\n",
       "<table border=\"1\" class=\"dataframe\">\n",
       "  <thead>\n",
       "    <tr style=\"text-align: right;\">\n",
       "      <th></th>\n",
       "      <th>user_id</th>\n",
       "      <th>item_id</th>\n",
       "      <th>rating</th>\n",
       "      <th>timestamp</th>\n",
       "      <th>movie_title</th>\n",
       "    </tr>\n",
       "  </thead>\n",
       "  <tbody>\n",
       "    <tr>\n",
       "      <th>0</th>\n",
       "      <td>196</td>\n",
       "      <td>242</td>\n",
       "      <td>3</td>\n",
       "      <td>881250949</td>\n",
       "      <td>Kolya (1996)</td>\n",
       "    </tr>\n",
       "    <tr>\n",
       "      <th>1</th>\n",
       "      <td>63</td>\n",
       "      <td>242</td>\n",
       "      <td>3</td>\n",
       "      <td>875747190</td>\n",
       "      <td>Kolya (1996)</td>\n",
       "    </tr>\n",
       "    <tr>\n",
       "      <th>2</th>\n",
       "      <td>226</td>\n",
       "      <td>242</td>\n",
       "      <td>5</td>\n",
       "      <td>883888671</td>\n",
       "      <td>Kolya (1996)</td>\n",
       "    </tr>\n",
       "    <tr>\n",
       "      <th>3</th>\n",
       "      <td>154</td>\n",
       "      <td>242</td>\n",
       "      <td>3</td>\n",
       "      <td>879138235</td>\n",
       "      <td>Kolya (1996)</td>\n",
       "    </tr>\n",
       "    <tr>\n",
       "      <th>4</th>\n",
       "      <td>306</td>\n",
       "      <td>242</td>\n",
       "      <td>5</td>\n",
       "      <td>876503793</td>\n",
       "      <td>Kolya (1996)</td>\n",
       "    </tr>\n",
       "  </tbody>\n",
       "</table>\n",
       "</div>"
      ],
      "text/plain": [
       "   user_id  item_id  rating  timestamp   movie_title\n",
       "0      196      242       3  881250949  Kolya (1996)\n",
       "1       63      242       3  875747190  Kolya (1996)\n",
       "2      226      242       5  883888671  Kolya (1996)\n",
       "3      154      242       3  879138235  Kolya (1996)\n",
       "4      306      242       5  876503793  Kolya (1996)"
      ]
     },
     "execution_count": 5,
     "metadata": {},
     "output_type": "execute_result"
    }
   ],
   "source": [
    "df.head()"
   ]
  },
  {
   "cell_type": "code",
   "execution_count": 6,
   "id": "ab29f356",
   "metadata": {},
   "outputs": [
    {
     "name": "stdout",
     "output_type": "stream",
     "text": [
      "Num of Users: 943\n",
      "Num of Movies: 1682\n"
     ]
    }
   ],
   "source": [
    "n_users = df.user_id.nunique()\n",
    "n_items = df.item_id.nunique()\n",
    "\n",
    "print('Num of Users: '+ str(n_users))\n",
    "print('Num of Movies: '+str(n_items))"
   ]
  },
  {
   "cell_type": "code",
   "execution_count": 7,
   "id": "e7bb0020",
   "metadata": {},
   "outputs": [],
   "source": [
    "# Functionality: creating mapping between two columns of the dataframe\n",
    "# Input: \n",
    "    # data: rating records\n",
    "    # col1_name: the name of one column\n",
    "    # col2_name: the name of the other column\n",
    "    \n",
    "def mapping(data, col1_name, col2_name):\n",
    "    unique = data[[col1_name, col2_name]].drop_duplicates()\n",
    "    colmap = dict(zip(unique[col1_name], unique[col2_name]))\n",
    "    return colmap"
   ]
  },
  {
   "cell_type": "code",
   "execution_count": 8,
   "id": "243ec2c8",
   "metadata": {},
   "outputs": [],
   "source": [
    "movie_map = mapping(df, \"item_id\", \"movie_title\")"
   ]
  },
  {
   "cell_type": "markdown",
   "id": "cbe62a8e",
   "metadata": {},
   "source": [
    "### PART II: Training Testing Split"
   ]
  },
  {
   "cell_type": "markdown",
   "id": "675b49aa",
   "metadata": {},
   "source": [
    "To evaluate the Recommendation System model, the entire dataset split into the training_data and testing_data. Different from evaluation of some algorithm models, there is no split between label and predictors. This is because the RS model is evaluated based on differences between predicted movie rating and actual movie rating. The rating is predictor as well as the label.\n",
    "\n",
    "The test_size is set at 0.25, which means that 75% of total ratings is in the training set and 25% of total ratings is in the testing set."
   ]
  },
  {
   "cell_type": "code",
   "execution_count": 6,
   "id": "1dcb7761",
   "metadata": {},
   "outputs": [],
   "source": [
    "from sklearn.model_selection import train_test_split\n",
    "train_data, test_data = train_test_split(df, test_size=0.25)"
   ]
  },
  {
   "cell_type": "markdown",
   "id": "5fbf392e",
   "metadata": {},
   "source": [
    "### PART III: Model Development \n",
    "- 3.1 Model-Based Collaborative Filtering\n",
    "   - 3.1.1 Sample Model with K = 10\n",
    "   - 3.1.2 Hyperparameter Tuning on No.Latent Factors\n",
    "- 3.2 Momery-Based Collaborative Filtering\n",
    "   - 3.2.1 Sample Model with K = 20\n",
    "   - 3.2.2 Hyperparameter Tuning on No.Neighbors"
   ]
  },
  {
   "cell_type": "markdown",
   "id": "abf6f7c6",
   "metadata": {},
   "source": [
    "The current data is a collection of rating record. To perform collaborative filtering, a matrix is needed. The columns of the matrix are movies and the rows of the matrix are users. (i, j) value indicates the rating from the ith user to the jth movie. Therefore, the matrix should be in the shape (numOfUsers, numOfMovies)."
   ]
  },
  {
   "cell_type": "code",
   "execution_count": 17,
   "id": "96fd00da",
   "metadata": {},
   "outputs": [],
   "source": [
    "user_to_movie_df = np.zeros((n_users, n_items))\n",
    "for row in df.itertuples():\n",
    "    user_to_movie_df[row[1]-1, row[2]-1] = row[3]"
   ]
  },
  {
   "cell_type": "code",
   "execution_count": 18,
   "id": "473ff0e8",
   "metadata": {},
   "outputs": [
    {
     "data": {
      "text/plain": [
       "array([[5., 3., 4., ..., 0., 0., 0.],\n",
       "       [4., 0., 0., ..., 0., 0., 0.],\n",
       "       [0., 0., 0., ..., 0., 0., 0.],\n",
       "       ...,\n",
       "       [5., 0., 0., ..., 0., 0., 0.],\n",
       "       [0., 0., 0., ..., 0., 0., 0.],\n",
       "       [0., 5., 0., ..., 0., 0., 0.]])"
      ]
     },
     "execution_count": 18,
     "metadata": {},
     "output_type": "execute_result"
    }
   ],
   "source": [
    "user_to_movie_df"
   ]
  },
  {
   "cell_type": "markdown",
   "id": "6cbd0ad0",
   "metadata": {},
   "source": [
    "#### 3.1 Model-Based Collaborative Filtering\n",
    "\n",
    "Model-Based Collaborative Filtering is based on matrix factorization. In this project, Singular Value Decomposition(SVD) techniques are used for matrix factorization\n",
    "\n",
    "with SVD, the original data matrix is decomposed into three matrices. \n",
    "- U: represents relationships between users and latent factors.\n",
    "- S: represents strength of each latent factor.\n",
    "- V: represents relationships between items and latent factors."
   ]
  },
  {
   "cell_type": "code",
   "execution_count": 35,
   "id": "9f301a47",
   "metadata": {},
   "outputs": [],
   "source": [
    "from scipy.linalg import sqrtm"
   ]
  },
  {
   "cell_type": "markdown",
   "id": "19702b51",
   "metadata": {},
   "source": [
    "##### 3.1.1 Sample Model with K = 10\n",
    "In the following model, k is set to be 10, which represents the number of latent factors used in the model."
   ]
  },
  {
   "cell_type": "code",
   "execution_count": 157,
   "id": "58d356bf",
   "metadata": {},
   "outputs": [],
   "source": [
    "# creating utility matrix\n",
    "train_data_matrix = np.asarray([[np.nan for j in range(n_items)] for i in range(n_users)])\n",
    "for row in train_data.itertuples():\n",
    "    train_data_matrix[row[1]-1, row[2]-1] = row[3]"
   ]
  },
  {
   "cell_type": "code",
   "execution_count": 40,
   "id": "c943a4c4",
   "metadata": {},
   "outputs": [],
   "source": [
    "# Function: fill in matrix NA values with item mean rating, and normalize each column\n",
    "# Input: user-item matrix where NA represents no rating record\n",
    "# Output: normalized matrix, user mean ratings, item mean ratings\n",
    "def matrixTransform(m):\n",
    "    mask = np.isnan(m) # mask used to label NA cells\n",
    "    masked_arr = np.ma.masked_array(m, mask)\n",
    "    item_means = np.mean(masked_arr, axis=0) # meaning rating for items based on existing ratings\n",
    "    user_means = np.mean(masked_arr, axis=1) # meaning rating given by users based on existing ratings\n",
    "    filled_matrix = masked_arr.filled(item_means) # fill NA values with item mean rating\n",
    "    filled_matrix = filled_matrix - item_means.data[np.newaxis,:] # normalize item ratings\n",
    "    util_matrix = filled_matrix/np.sqrt(len(m[0]) -1)\n",
    "    return util_matrix, user_means, item_means"
   ]
  },
  {
   "cell_type": "code",
   "execution_count": 41,
   "id": "fa0d1ba4",
   "metadata": {},
   "outputs": [],
   "source": [
    "train_data_matrix_normed, user_mean, item_mean = matrixTransform(train_data_matrix)"
   ]
  },
  {
   "cell_type": "code",
   "execution_count": 42,
   "id": "0bc5cfe0",
   "metadata": {},
   "outputs": [
    {
     "data": {
      "text/plain": [
       "array([[ 0.02785437, -0.00711382,  0.02291205, ...,  0.        ,\n",
       "         0.        ,  0.        ],\n",
       "       [ 0.00346412,  0.        ,  0.        , ...,  0.        ,\n",
       "         0.        ,  0.        ],\n",
       "       [ 0.        ,  0.        ,  0.        , ...,  0.        ,\n",
       "         0.        ,  0.        ],\n",
       "       ...,\n",
       "       [ 0.02785437,  0.        ,  0.        , ...,  0.        ,\n",
       "         0.        ,  0.        ],\n",
       "       [ 0.        ,  0.        ,  0.        , ...,  0.        ,\n",
       "         0.        ,  0.        ],\n",
       "       [ 0.        ,  0.04166667,  0.        , ...,  0.        ,\n",
       "         0.        ,  0.        ]])"
      ]
     },
     "execution_count": 42,
     "metadata": {},
     "output_type": "execute_result"
    }
   ],
   "source": [
    "train_data_matrix_normed"
   ]
  },
  {
   "attachments": {
    "Matrix-decomposition-using-truncated-SVD.png": {
     "image/png": "[encoded data removed]"
    }
   },
   "cell_type": "markdown",
   "id": "5331b93a",
   "metadata": {},
   "source": [
    "![Matrix-decomposition-using-truncated-SVD.png](attachment:Matrix-decomposition-using-truncated-SVD.png)"
   ]
  },
  {
   "cell_type": "code",
   "execution_count": 394,
   "id": "60debdef",
   "metadata": {},
   "outputs": [],
   "source": [
    "# Function: perform SVD on matrix, extract k latent factors\n",
    "# Input: utilMat: normalized user-item matrix, \n",
    "#        k: the number of latent factors used\n",
    "#        item_mean: item mean rating\n",
    "# Output: truncated SVD\n",
    "def svd(utilMat, k, item_mean):\n",
    "    U, s, V=np.linalg.svd(utilMat, full_matrices=False)\n",
    "    s=np.diag(s)\n",
    "    s=s[0:k,0:k]\n",
    "    U=U[:,0:k]\n",
    "    V=V[0:k,:]\n",
    "    s_root=sqrtm(s)\n",
    "    Usk=np.dot(U,s_root)\n",
    "    skV=np.dot(s_root,V)\n",
    "    UsV = np.dot(Usk, skV)\n",
    "    # add item mean rating subtracted in previous normalization\n",
    "    svdout = UsV + item_mean.data[np.newaxis:, ]\n",
    "    return svdout"
   ]
  },
  {
   "cell_type": "code",
   "execution_count": 47,
   "id": "8144ce60",
   "metadata": {},
   "outputs": [],
   "source": [
    "svdout = svd(train_data_matrix_normed, 10, item_mean)"
   ]
  },
  {
   "cell_type": "code",
   "execution_count": 48,
   "id": "05f04bc1",
   "metadata": {},
   "outputs": [
    {
     "data": {
      "text/plain": [
       "array([[3.86636814, 3.2909507 , 3.06110349, ..., 2.        , 0.        ,\n",
       "        0.        ],\n",
       "       [3.86048038, 3.29181979, 3.06079465, ..., 2.        , 0.        ,\n",
       "        0.        ],\n",
       "       [3.85458878, 3.29140631, 3.0590602 , ..., 2.        , 0.        ,\n",
       "        0.        ],\n",
       "       ...,\n",
       "       [3.86234516, 3.29231252, 3.06161732, ..., 2.        , 0.        ,\n",
       "        0.        ],\n",
       "       [3.86194068, 3.2940903 , 3.06133784, ..., 2.        , 0.        ,\n",
       "        0.        ],\n",
       "       [3.85696738, 3.28942727, 3.0606647 , ..., 2.        , 0.        ,\n",
       "        0.        ]])"
      ]
     },
     "execution_count": 48,
     "metadata": {},
     "output_type": "execute_result"
    }
   ],
   "source": [
    "svdout"
   ]
  },
  {
   "attachments": {
    "RMSE1.jpg": {
     "image/jpeg": "[encoded data removed]"
    }
   },
   "cell_type": "markdown",
   "id": "330ff19c",
   "metadata": {},
   "source": [
    "The above SVD output matrix is predicted rating from each user on each item.\n",
    "\n",
    "To evaluate the model, the performance is calculated by comparing the predicted rating and the test_matrix rating. Since the test_matrix contains 25% of rating records, we need to filter out all predicted ratings that do not exist in the test data, which are zero values in the test_matrix.\n",
    "\n",
    "The metric used for measure performance is the Root Mean Squared Error (RMSE) \n",
    "![RMSE1.jpg](attachment:RMSE1.jpg)"
   ]
  },
  {
   "cell_type": "code",
   "execution_count": 53,
   "id": "99e2e21f",
   "metadata": {},
   "outputs": [],
   "source": [
    "import math\n",
    "def rmse(true, pred):\n",
    "    x = true - pred\n",
    "    return math.sqrt(sum([xi*xi for xi in x])/len(x))"
   ]
  },
  {
   "cell_type": "code",
   "execution_count": 57,
   "id": "ef45d13e",
   "metadata": {},
   "outputs": [
    {
     "data": {
      "text/plain": [
       "(1, 1)"
      ]
     },
     "execution_count": 57,
     "metadata": {},
     "output_type": "execute_result"
    }
   ],
   "source": [
    "min(test_data['user_id']), min(test_data['item_id'])"
   ]
  },
  {
   "cell_type": "code",
   "execution_count": 59,
   "id": "f571f221",
   "metadata": {},
   "outputs": [
    {
     "data": {
      "text/html": [
       "<div>\n",
       "<style scoped>\n",
       "    .dataframe tbody tr th:only-of-type {\n",
       "        vertical-align: middle;\n",
       "    }\n",
       "\n",
       "    .dataframe tbody tr th {\n",
       "        vertical-align: top;\n",
       "    }\n",
       "\n",
       "    .dataframe thead th {\n",
       "        text-align: right;\n",
       "    }\n",
       "</style>\n",
       "<table border=\"1\" class=\"dataframe\">\n",
       "  <thead>\n",
       "    <tr style=\"text-align: right;\">\n",
       "      <th></th>\n",
       "      <th>0</th>\n",
       "      <th>1</th>\n",
       "      <th>2</th>\n",
       "      <th>3</th>\n",
       "      <th>4</th>\n",
       "      <th>5</th>\n",
       "      <th>6</th>\n",
       "      <th>7</th>\n",
       "      <th>8</th>\n",
       "      <th>9</th>\n",
       "      <th>...</th>\n",
       "      <th>1672</th>\n",
       "      <th>1673</th>\n",
       "      <th>1674</th>\n",
       "      <th>1675</th>\n",
       "      <th>1676</th>\n",
       "      <th>1677</th>\n",
       "      <th>1678</th>\n",
       "      <th>1679</th>\n",
       "      <th>1680</th>\n",
       "      <th>1681</th>\n",
       "    </tr>\n",
       "  </thead>\n",
       "  <tbody>\n",
       "    <tr>\n",
       "      <th>0</th>\n",
       "      <td>3.866368</td>\n",
       "      <td>3.290951</td>\n",
       "      <td>3.061103</td>\n",
       "      <td>3.559352</td>\n",
       "      <td>3.345722</td>\n",
       "      <td>3.564760</td>\n",
       "      <td>3.818041</td>\n",
       "      <td>4.032521</td>\n",
       "      <td>3.989615</td>\n",
       "      <td>3.787511</td>\n",
       "      <td>...</td>\n",
       "      <td>0.0</td>\n",
       "      <td>4.0</td>\n",
       "      <td>0.0</td>\n",
       "      <td>2.0</td>\n",
       "      <td>3.0</td>\n",
       "      <td>1.0</td>\n",
       "      <td>3.0</td>\n",
       "      <td>2.0</td>\n",
       "      <td>0.0</td>\n",
       "      <td>0.0</td>\n",
       "    </tr>\n",
       "    <tr>\n",
       "      <th>1</th>\n",
       "      <td>3.860480</td>\n",
       "      <td>3.291820</td>\n",
       "      <td>3.060795</td>\n",
       "      <td>3.553761</td>\n",
       "      <td>3.348164</td>\n",
       "      <td>3.562804</td>\n",
       "      <td>3.806850</td>\n",
       "      <td>4.030949</td>\n",
       "      <td>3.983091</td>\n",
       "      <td>3.786160</td>\n",
       "      <td>...</td>\n",
       "      <td>0.0</td>\n",
       "      <td>4.0</td>\n",
       "      <td>0.0</td>\n",
       "      <td>2.0</td>\n",
       "      <td>3.0</td>\n",
       "      <td>1.0</td>\n",
       "      <td>3.0</td>\n",
       "      <td>2.0</td>\n",
       "      <td>0.0</td>\n",
       "      <td>0.0</td>\n",
       "    </tr>\n",
       "    <tr>\n",
       "      <th>2</th>\n",
       "      <td>3.854589</td>\n",
       "      <td>3.291406</td>\n",
       "      <td>3.059060</td>\n",
       "      <td>3.551631</td>\n",
       "      <td>3.347414</td>\n",
       "      <td>3.561532</td>\n",
       "      <td>3.801641</td>\n",
       "      <td>4.030337</td>\n",
       "      <td>3.980721</td>\n",
       "      <td>3.785042</td>\n",
       "      <td>...</td>\n",
       "      <td>0.0</td>\n",
       "      <td>4.0</td>\n",
       "      <td>0.0</td>\n",
       "      <td>2.0</td>\n",
       "      <td>3.0</td>\n",
       "      <td>1.0</td>\n",
       "      <td>3.0</td>\n",
       "      <td>2.0</td>\n",
       "      <td>0.0</td>\n",
       "      <td>0.0</td>\n",
       "    </tr>\n",
       "    <tr>\n",
       "      <th>3</th>\n",
       "      <td>3.863518</td>\n",
       "      <td>3.291700</td>\n",
       "      <td>3.061946</td>\n",
       "      <td>3.553058</td>\n",
       "      <td>3.348748</td>\n",
       "      <td>3.563236</td>\n",
       "      <td>3.810192</td>\n",
       "      <td>4.029299</td>\n",
       "      <td>3.981445</td>\n",
       "      <td>3.786668</td>\n",
       "      <td>...</td>\n",
       "      <td>0.0</td>\n",
       "      <td>4.0</td>\n",
       "      <td>0.0</td>\n",
       "      <td>2.0</td>\n",
       "      <td>3.0</td>\n",
       "      <td>1.0</td>\n",
       "      <td>3.0</td>\n",
       "      <td>2.0</td>\n",
       "      <td>0.0</td>\n",
       "      <td>0.0</td>\n",
       "    </tr>\n",
       "    <tr>\n",
       "      <th>4</th>\n",
       "      <td>3.850209</td>\n",
       "      <td>3.288214</td>\n",
       "      <td>3.059801</td>\n",
       "      <td>3.549617</td>\n",
       "      <td>3.346480</td>\n",
       "      <td>3.563786</td>\n",
       "      <td>3.816109</td>\n",
       "      <td>4.026527</td>\n",
       "      <td>3.982773</td>\n",
       "      <td>3.786308</td>\n",
       "      <td>...</td>\n",
       "      <td>0.0</td>\n",
       "      <td>4.0</td>\n",
       "      <td>0.0</td>\n",
       "      <td>2.0</td>\n",
       "      <td>3.0</td>\n",
       "      <td>1.0</td>\n",
       "      <td>3.0</td>\n",
       "      <td>2.0</td>\n",
       "      <td>0.0</td>\n",
       "      <td>0.0</td>\n",
       "    </tr>\n",
       "    <tr>\n",
       "      <th>...</th>\n",
       "      <td>...</td>\n",
       "      <td>...</td>\n",
       "      <td>...</td>\n",
       "      <td>...</td>\n",
       "      <td>...</td>\n",
       "      <td>...</td>\n",
       "      <td>...</td>\n",
       "      <td>...</td>\n",
       "      <td>...</td>\n",
       "      <td>...</td>\n",
       "      <td>...</td>\n",
       "      <td>...</td>\n",
       "      <td>...</td>\n",
       "      <td>...</td>\n",
       "      <td>...</td>\n",
       "      <td>...</td>\n",
       "      <td>...</td>\n",
       "      <td>...</td>\n",
       "      <td>...</td>\n",
       "      <td>...</td>\n",
       "      <td>...</td>\n",
       "    </tr>\n",
       "    <tr>\n",
       "      <th>938</th>\n",
       "      <td>3.865158</td>\n",
       "      <td>3.293414</td>\n",
       "      <td>3.063044</td>\n",
       "      <td>3.554888</td>\n",
       "      <td>3.350255</td>\n",
       "      <td>3.561933</td>\n",
       "      <td>3.809613</td>\n",
       "      <td>4.031570</td>\n",
       "      <td>3.981087</td>\n",
       "      <td>3.785895</td>\n",
       "      <td>...</td>\n",
       "      <td>0.0</td>\n",
       "      <td>4.0</td>\n",
       "      <td>0.0</td>\n",
       "      <td>2.0</td>\n",
       "      <td>3.0</td>\n",
       "      <td>1.0</td>\n",
       "      <td>3.0</td>\n",
       "      <td>2.0</td>\n",
       "      <td>0.0</td>\n",
       "      <td>0.0</td>\n",
       "    </tr>\n",
       "    <tr>\n",
       "      <th>939</th>\n",
       "      <td>3.856291</td>\n",
       "      <td>3.292047</td>\n",
       "      <td>3.060980</td>\n",
       "      <td>3.551198</td>\n",
       "      <td>3.349585</td>\n",
       "      <td>3.561481</td>\n",
       "      <td>3.806751</td>\n",
       "      <td>4.027508</td>\n",
       "      <td>3.976656</td>\n",
       "      <td>3.784784</td>\n",
       "      <td>...</td>\n",
       "      <td>0.0</td>\n",
       "      <td>4.0</td>\n",
       "      <td>0.0</td>\n",
       "      <td>2.0</td>\n",
       "      <td>3.0</td>\n",
       "      <td>1.0</td>\n",
       "      <td>3.0</td>\n",
       "      <td>2.0</td>\n",
       "      <td>0.0</td>\n",
       "      <td>0.0</td>\n",
       "    </tr>\n",
       "    <tr>\n",
       "      <th>940</th>\n",
       "      <td>3.862345</td>\n",
       "      <td>3.292313</td>\n",
       "      <td>3.061617</td>\n",
       "      <td>3.553804</td>\n",
       "      <td>3.348789</td>\n",
       "      <td>3.562862</td>\n",
       "      <td>3.808321</td>\n",
       "      <td>4.030044</td>\n",
       "      <td>3.981103</td>\n",
       "      <td>3.786288</td>\n",
       "      <td>...</td>\n",
       "      <td>0.0</td>\n",
       "      <td>4.0</td>\n",
       "      <td>0.0</td>\n",
       "      <td>2.0</td>\n",
       "      <td>3.0</td>\n",
       "      <td>1.0</td>\n",
       "      <td>3.0</td>\n",
       "      <td>2.0</td>\n",
       "      <td>0.0</td>\n",
       "      <td>0.0</td>\n",
       "    </tr>\n",
       "    <tr>\n",
       "      <th>941</th>\n",
       "      <td>3.861941</td>\n",
       "      <td>3.294090</td>\n",
       "      <td>3.061338</td>\n",
       "      <td>3.555522</td>\n",
       "      <td>3.349920</td>\n",
       "      <td>3.563223</td>\n",
       "      <td>3.804180</td>\n",
       "      <td>4.032099</td>\n",
       "      <td>3.982966</td>\n",
       "      <td>3.786261</td>\n",
       "      <td>...</td>\n",
       "      <td>0.0</td>\n",
       "      <td>4.0</td>\n",
       "      <td>0.0</td>\n",
       "      <td>2.0</td>\n",
       "      <td>3.0</td>\n",
       "      <td>1.0</td>\n",
       "      <td>3.0</td>\n",
       "      <td>2.0</td>\n",
       "      <td>0.0</td>\n",
       "      <td>0.0</td>\n",
       "    </tr>\n",
       "    <tr>\n",
       "      <th>942</th>\n",
       "      <td>3.856967</td>\n",
       "      <td>3.289427</td>\n",
       "      <td>3.060665</td>\n",
       "      <td>3.553696</td>\n",
       "      <td>3.349446</td>\n",
       "      <td>3.562424</td>\n",
       "      <td>3.809419</td>\n",
       "      <td>4.027979</td>\n",
       "      <td>3.984915</td>\n",
       "      <td>3.784571</td>\n",
       "      <td>...</td>\n",
       "      <td>0.0</td>\n",
       "      <td>4.0</td>\n",
       "      <td>0.0</td>\n",
       "      <td>2.0</td>\n",
       "      <td>3.0</td>\n",
       "      <td>1.0</td>\n",
       "      <td>3.0</td>\n",
       "      <td>2.0</td>\n",
       "      <td>0.0</td>\n",
       "      <td>0.0</td>\n",
       "    </tr>\n",
       "  </tbody>\n",
       "</table>\n",
       "<p>943 rows × 1682 columns</p>\n",
       "</div>"
      ],
      "text/plain": [
       "         0         1         2         3         4         5         6     \\\n",
       "0    3.866368  3.290951  3.061103  3.559352  3.345722  3.564760  3.818041   \n",
       "1    3.860480  3.291820  3.060795  3.553761  3.348164  3.562804  3.806850   \n",
       "2    3.854589  3.291406  3.059060  3.551631  3.347414  3.561532  3.801641   \n",
       "3    3.863518  3.291700  3.061946  3.553058  3.348748  3.563236  3.810192   \n",
       "4    3.850209  3.288214  3.059801  3.549617  3.346480  3.563786  3.816109   \n",
       "..        ...       ...       ...       ...       ...       ...       ...   \n",
       "938  3.865158  3.293414  3.063044  3.554888  3.350255  3.561933  3.809613   \n",
       "939  3.856291  3.292047  3.060980  3.551198  3.349585  3.561481  3.806751   \n",
       "940  3.862345  3.292313  3.061617  3.553804  3.348789  3.562862  3.808321   \n",
       "941  3.861941  3.294090  3.061338  3.555522  3.349920  3.563223  3.804180   \n",
       "942  3.856967  3.289427  3.060665  3.553696  3.349446  3.562424  3.809419   \n",
       "\n",
       "         7         8         9     ...  1672  1673  1674  1675  1676  1677  \\\n",
       "0    4.032521  3.989615  3.787511  ...   0.0   4.0   0.0   2.0   3.0   1.0   \n",
       "1    4.030949  3.983091  3.786160  ...   0.0   4.0   0.0   2.0   3.0   1.0   \n",
       "2    4.030337  3.980721  3.785042  ...   0.0   4.0   0.0   2.0   3.0   1.0   \n",
       "3    4.029299  3.981445  3.786668  ...   0.0   4.0   0.0   2.0   3.0   1.0   \n",
       "4    4.026527  3.982773  3.786308  ...   0.0   4.0   0.0   2.0   3.0   1.0   \n",
       "..        ...       ...       ...  ...   ...   ...   ...   ...   ...   ...   \n",
       "938  4.031570  3.981087  3.785895  ...   0.0   4.0   0.0   2.0   3.0   1.0   \n",
       "939  4.027508  3.976656  3.784784  ...   0.0   4.0   0.0   2.0   3.0   1.0   \n",
       "940  4.030044  3.981103  3.786288  ...   0.0   4.0   0.0   2.0   3.0   1.0   \n",
       "941  4.032099  3.982966  3.786261  ...   0.0   4.0   0.0   2.0   3.0   1.0   \n",
       "942  4.027979  3.984915  3.784571  ...   0.0   4.0   0.0   2.0   3.0   1.0   \n",
       "\n",
       "     1678  1679  1680  1681  \n",
       "0     3.0   2.0   0.0   0.0  \n",
       "1     3.0   2.0   0.0   0.0  \n",
       "2     3.0   2.0   0.0   0.0  \n",
       "3     3.0   2.0   0.0   0.0  \n",
       "4     3.0   2.0   0.0   0.0  \n",
       "..    ...   ...   ...   ...  \n",
       "938   3.0   2.0   0.0   0.0  \n",
       "939   3.0   2.0   0.0   0.0  \n",
       "940   3.0   2.0   0.0   0.0  \n",
       "941   3.0   2.0   0.0   0.0  \n",
       "942   3.0   2.0   0.0   0.0  \n",
       "\n",
       "[943 rows x 1682 columns]"
      ]
     },
     "execution_count": 59,
     "metadata": {},
     "output_type": "execute_result"
    }
   ],
   "source": [
    "pd.DataFrame(svdout)"
   ]
  },
  {
   "cell_type": "code",
   "execution_count": 60,
   "id": "8fd391f6",
   "metadata": {},
   "outputs": [],
   "source": [
    "pred = []\n",
    "for _,row in test_data.iterrows():\n",
    "    user = row['user_id']\n",
    "    item = row['item_id']\n",
    "    # userid and itemid in test_data starts from 1\n",
    "    # need to subtract 1 from it t get the correct prediction\n",
    "    pred_rating = svdout[user-1][item-1] \n",
    "    pred.append(pred_rating)"
   ]
  },
  {
   "cell_type": "code",
   "execution_count": 64,
   "id": "afcd3893",
   "metadata": {},
   "outputs": [
    {
     "data": {
      "text/plain": [
       "1.0259706214247635"
      ]
     },
     "execution_count": 64,
     "metadata": {},
     "output_type": "execute_result"
    }
   ],
   "source": [
    "model1_rmse = rmse(test_data['rating'], pred)\n",
    "model1_rmse "
   ]
  },
  {
   "cell_type": "code",
   "execution_count": 265,
   "id": "3b6c51e1",
   "metadata": {},
   "outputs": [
    {
     "name": "stdout",
     "output_type": "stream",
     "text": [
      "RMSE of the Model-Based Collaborative Filtering Model (k = 10): 1.0259706214247635\n"
     ]
    }
   ],
   "source": [
    "print(\"RMSE of the Model-Based Collaborative Filtering Model (k = 10): \" + str(model1_rmse))"
   ]
  },
  {
   "cell_type": "markdown",
   "id": "5b02c473",
   "metadata": {},
   "source": [
    "##### 3.1.2 Hyperparameter Tuning on Latent Factors"
   ]
  },
  {
   "cell_type": "markdown",
   "id": "8bf5b869",
   "metadata": {},
   "source": [
    "The above model with K = 10 gives us a RMSE of 1.025. We could adjust the k value for potential improvement."
   ]
  },
  {
   "cell_type": "code",
   "execution_count": 97,
   "id": "cb999391",
   "metadata": {},
   "outputs": [],
   "source": [
    "def svd_k(k):\n",
    "    svdout = svd(train_data_matrix_normed, k, item_mean)\n",
    "    pred = []\n",
    "    for _,row in test_data.iterrows():\n",
    "        user = row['user_id']\n",
    "        item = row['item_id']\n",
    "        pred_rating = svdout[user-1][item-1] \n",
    "        pred.append(pred_rating)\n",
    "    rmse_k = rmse(test_data['rating'], pred)\n",
    "    return pred, rmse_k"
   ]
  },
  {
   "cell_type": "code",
   "execution_count": 272,
   "id": "0e96676c",
   "metadata": {},
   "outputs": [],
   "source": [
    "rmse_res = pd.DataFrame({'k':[], 'rmse':[]})\n",
    "for k in range(1, 50):  \n",
    "    pred, k_rmse = svd_k(k)\n",
    "    rmse_res = rmse_res.append({'k': k, 'rmse': k_rmse}, ignore_index=True)"
   ]
  },
  {
   "cell_type": "code",
   "execution_count": 273,
   "id": "f98fd85b",
   "metadata": {},
   "outputs": [
    {
     "data": {
      "text/plain": [
       "Text(0.5, 1.0, 'SVD Number of Latent Factors vs. RMSE')"
      ]
     },
     "execution_count": 273,
     "metadata": {},
     "output_type": "execute_result"
    },
    {
     "data": {
      "image/png": "[encoded data removed]",
      "text/plain": [
       "<Figure size 432x288 with 1 Axes>"
      ]
     },
     "metadata": {
      "needs_background": "light"
     },
     "output_type": "display_data"
    }
   ],
   "source": [
    "min_x = np.argmin(rmse_res.rmse) + 1\n",
    "min_y = np.min(rmse_res.rmse)\n",
    "\n",
    "plt.plot(rmse_res['k'], rmse_res['rmse'])\n",
    "plt.scatter(min_x, min_y,c='r', label='minimum')\n",
    "plt.legend()\n",
    "plt.xlabel('K')\n",
    "plt.ylabel(\"RMSE\")\n",
    "plt.title(\"SVD Number of Latent Factors vs. RMSE\")"
   ]
  },
  {
   "cell_type": "code",
   "execution_count": 274,
   "id": "06a87051",
   "metadata": {},
   "outputs": [
    {
     "data": {
      "text/plain": [
       "(13, 1.0259239677645815)"
      ]
     },
     "execution_count": 274,
     "metadata": {},
     "output_type": "execute_result"
    }
   ],
   "source": [
    "min_x, min_y"
   ]
  },
  {
   "cell_type": "code",
   "execution_count": 277,
   "id": "0e7b23b3",
   "metadata": {},
   "outputs": [
    {
     "name": "stdout",
     "output_type": "stream",
     "text": [
      "RMSE of the Model-Based Collaborative Filtering Model (k = 13): 1.0259289191067107\n",
      "Time Cost of the Model-Based Collaborative Filtering Model (k = 13): 1.3447847079951316\n"
     ]
    }
   ],
   "source": [
    "#k = 13\n",
    "model2_start = timeit.default_timer()\n",
    "model2_pred, model2_rmse  = svd_k(12)\n",
    "model2_end = timeit.default_timer()\n",
    "model2_time = model2_end - model2_start\n",
    "print(\"RMSE of the Model-Based Collaborative Filtering Model (k = 13): \" + str(model2_rmse))\n",
    "print(\"Time Cost of the Model-Based Collaborative Filtering Model (k = 13): \" + str(model2_time))"
   ]
  },
  {
   "cell_type": "markdown",
   "id": "dc266a73",
   "metadata": {},
   "source": [
    "#### 3.2 Memory-Based Collaborative Filtering"
   ]
  },
  {
   "cell_type": "markdown",
   "id": "11fb3527",
   "metadata": {},
   "source": [
    "Memory-Based Collaborative Filtering utilizes similarity among users and items to provide recommendation. It could be further divided into Item-Based Collaborative Filtering and User-Based Collaborative Filtering.\n",
    "   - Item-Based Collaborative Filtering: movies that are similar to users liked.\n",
    "   - User-Based Collaborative Filtering: movies that liked by similar users\n",
    "\n",
    "The KNN algorithm is used to choose close users."
   ]
  },
  {
   "cell_type": "code",
   "execution_count": 12,
   "id": "28b7fc95",
   "metadata": {},
   "outputs": [],
   "source": [
    "from scipy.sparse import csr_matrix\n",
    "from sklearn.neighbors import NearestNeighbors"
   ]
  },
  {
   "cell_type": "code",
   "execution_count": 158,
   "id": "83807d4c",
   "metadata": {},
   "outputs": [],
   "source": [
    "train_data_matrix_zero = pd.DataFrame(train_data_matrix).fillna(0)"
   ]
  },
  {
   "cell_type": "code",
   "execution_count": 159,
   "id": "39aaf44f",
   "metadata": {},
   "outputs": [
    {
     "data": {
      "text/plain": [
       "<943x1682 sparse matrix of type '<class 'numpy.float64'>'\n",
       "\twith 75000 stored elements in Compressed Sparse Row format>"
      ]
     },
     "execution_count": 159,
     "metadata": {},
     "output_type": "execute_result"
    }
   ],
   "source": [
    "train_data_matrix_sparse = csr_matrix(train_data_matrix_zero)\n",
    "train_data_matrix_sparse"
   ]
  },
  {
   "cell_type": "code",
   "execution_count": 160,
   "id": "b909f290",
   "metadata": {},
   "outputs": [
    {
     "data": {
      "text/plain": [
       "NearestNeighbors(algorithm='brute', metric='cosine')"
      ]
     },
     "execution_count": 160,
     "metadata": {},
     "output_type": "execute_result"
    }
   ],
   "source": [
    "knn_model = NearestNeighbors(metric='cosine', algorithm='brute')\n",
    "knn_model.fit(train_data_matrix_sparse)"
   ]
  },
  {
   "cell_type": "code",
   "execution_count": 162,
   "id": "dafefb64",
   "metadata": {},
   "outputs": [],
   "source": [
    "# Test on a random user\n",
    "user = 21\n",
    "n = 10\n",
    "knn_input = np.asarray([train_data_matrix_zero .values[user-1]])"
   ]
  },
  {
   "cell_type": "code",
   "execution_count": 206,
   "id": "ba8f400d",
   "metadata": {},
   "outputs": [],
   "source": [
    "distances, indices = knn_model.kneighbors(knn_input, n_neighbors=n+1)\n",
    "similar_user_list = indices.flatten()[1:]\n",
    "distance_list = distances.flatten()[1:]"
   ]
  },
  {
   "cell_type": "code",
   "execution_count": 207,
   "id": "2be274ee",
   "metadata": {},
   "outputs": [
    {
     "data": {
      "text/plain": [
       "array([[ 20, 813, 365, 371, 421, 367, 254, 366, 924, 801, 545]])"
      ]
     },
     "execution_count": 207,
     "metadata": {},
     "output_type": "execute_result"
    }
   ],
   "source": [
    "indices"
   ]
  },
  {
   "cell_type": "code",
   "execution_count": 208,
   "id": "79a947c0",
   "metadata": {},
   "outputs": [
    {
     "data": {
      "text/plain": [
       "array([[0.        , 0.54556927, 0.55846472, 0.56236934, 0.61939093,\n",
       "        0.63661066, 0.64670973, 0.65760414, 0.65988597, 0.66355461,\n",
       "        0.68504022]])"
      ]
     },
     "execution_count": 208,
     "metadata": {},
     "output_type": "execute_result"
    }
   ],
   "source": [
    "distances"
   ]
  },
  {
   "cell_type": "code",
   "execution_count": 210,
   "id": "2200e0e1",
   "metadata": {},
   "outputs": [
    {
     "name": "stdout",
     "output_type": "stream",
     "text": [
      "Top 10 users similar to the User 109 :\n",
      " \n",
      "    User         Distance\n",
      "1   813       0.5455692668146346\n",
      "2   365       0.5584647230927977\n",
      "3   371       0.5623693415356845\n",
      "4   421       0.6193909265210742\n",
      "5   367       0.6366106605257329\n",
      "6   254       0.6467097331953643\n",
      "7   366       0.6576041376191388\n",
      "8   924       0.6598859736613073\n",
      "9   801       0.6635546061412334\n",
      "10   545       0.685040217395114\n"
     ]
    }
   ],
   "source": [
    "print(\"Top\",n,\"users similar to the User\",user, \":\")\n",
    "print(\" \")\n",
    "print(\"    User         Distance\")\n",
    "for i in range(1,len(distances[0])):\n",
    "    print(i,\" \", indices[0][i],\"     \",distances[0][i])"
   ]
  },
  {
   "cell_type": "markdown",
   "id": "b9a98a19",
   "metadata": {},
   "source": [
    "To predict one user's rating on a specific movie, we need to give different weights to different neighbors based on similarity."
   ]
  },
  {
   "cell_type": "code",
   "execution_count": 165,
   "id": "64d9ed23",
   "metadata": {},
   "outputs": [
    {
     "data": {
      "text/plain": [
       "array([0.08749828, 0.08956645, 0.09019268, 0.09933779, 0.10209948,\n",
       "       0.10371917, 0.10546641, 0.10583237, 0.10642075, 0.10986661])"
      ]
     },
     "execution_count": 165,
     "metadata": {},
     "output_type": "execute_result"
    }
   ],
   "source": [
    "# weights of neighbors\n",
    "neighbor_weight_list = distance_list/np.sum(distance_list)\n",
    "neighbor_weight_list"
   ]
  },
  {
   "cell_type": "markdown",
   "id": "c4889109",
   "metadata": {},
   "source": [
    "We need to extract ratings given by neighbors. For movies that neighbors did not see, place the zero with movie mean rating."
   ]
  },
  {
   "cell_type": "code",
   "execution_count": 168,
   "id": "268f578e",
   "metadata": {},
   "outputs": [],
   "source": [
    "mask = np.isnan(train_data_matrix)\n",
    "masked_arr = np.ma.masked_array(train_data_matrix, mask)\n",
    "train_data_matrix_mean = masked_arr.filled(item_mean) "
   ]
  },
  {
   "cell_type": "code",
   "execution_count": 175,
   "id": "586aed15",
   "metadata": {},
   "outputs": [
    {
     "data": {
      "text/plain": [
       "(10, 1682)"
      ]
     },
     "execution_count": 175,
     "metadata": {},
     "output_type": "execute_result"
    }
   ],
   "source": [
    "# extract ratings given by neighbors\n",
    "neighbor_rating = train_data_matrix_mean[similar_user_list]\n",
    "neighbor_rating.shape"
   ]
  },
  {
   "cell_type": "code",
   "execution_count": 176,
   "id": "2e037afe",
   "metadata": {},
   "outputs": [
    {
     "data": {
      "text/plain": [
       "(10, 1682)"
      ]
     },
     "execution_count": 176,
     "metadata": {},
     "output_type": "execute_result"
    }
   ],
   "source": [
    "# broadcast the neighbor weight to a matrix\n",
    "weight_matrix = neighbor_weight_list[:,np.newaxis] + np.zeros(n_items)\n",
    "weight_matrix.shape"
   ]
  },
  {
   "cell_type": "code",
   "execution_count": 177,
   "id": "34bc6012",
   "metadata": {},
   "outputs": [
    {
     "data": {
      "text/plain": [
       "(10, 1682)"
      ]
     },
     "execution_count": 177,
     "metadata": {},
     "output_type": "execute_result"
    }
   ],
   "source": [
    "# compute neighbor rating with weight\n",
    "neighor_weight_rating = weight_matrix*neighbor_rating\n",
    "neighor_weight_rating.shape"
   ]
  },
  {
   "cell_type": "code",
   "execution_count": 178,
   "id": "323effc0",
   "metadata": {},
   "outputs": [
    {
     "data": {
      "text/plain": [
       "array([4.07634689, 3.53274006, 3.06060606, ..., 2.        , 0.        ,\n",
       "       0.        ])"
      ]
     },
     "execution_count": 178,
     "metadata": {},
     "output_type": "execute_result"
    }
   ],
   "source": [
    "# sum up weighted neighbot rating\n",
    "user_pred_rating = neighor_weight_rating.sum(axis =0)\n",
    "user_pred_rating"
   ]
  },
  {
   "cell_type": "markdown",
   "id": "cd344cab",
   "metadata": {},
   "source": [
    "The user_pred_rating gives us predicted ratings on all movies by the user. To test the model, we could compute predicted ratings for all users and then use the test_data to compute rmse"
   ]
  },
  {
   "cell_type": "code",
   "execution_count": 211,
   "id": "5d35f3a6",
   "metadata": {},
   "outputs": [],
   "source": [
    "# summarize previous procedures into functions\n",
    "def get_neighbors(user, n = 10):\n",
    "    knn_input = np.asarray([train_data_matrix_zero .values[user-1]])\n",
    "    distances, indices = knn_model.kneighbors(knn_input, n_neighbors=n+1)\n",
    "    similar_user_list = indices.flatten()[1:]\n",
    "    distance_list = distances.flatten()[1:]\n",
    "    neighbor_weight_list = distance_list/np.sum(distance_list)\n",
    "    return similar_user_list, neighbor_weight_list"
   ]
  },
  {
   "cell_type": "code",
   "execution_count": 212,
   "id": "e9131a2b",
   "metadata": {},
   "outputs": [],
   "source": [
    "def predict_user_rating(user, n = 10):\n",
    "    similar_user_list, neighbor_weight_list = get_neighbors(user, n)\n",
    "    neighbor_rating = train_data_matrix_mean[similar_user_list]\n",
    "    weight_matrix = neighbor_weight_list[:,np.newaxis] + np.zeros(n_items)\n",
    "    neighor_weight_rating = weight_matrix*neighbor_rating\n",
    "    user_pred_rating = neighor_weight_rating.sum(axis =0)\n",
    "    return user_pred_rating"
   ]
  },
  {
   "cell_type": "code",
   "execution_count": 213,
   "id": "081c3ac2",
   "metadata": {},
   "outputs": [],
   "source": [
    "# create a new matrix contain all users' predicted ratings\n",
    "row_list = []\n",
    "for user in range(n_users):\n",
    "    itemPred = predict_user_rating(user)\n",
    "    row_list.append(itemPred)\n",
    "knn_pred = pd.DataFrame(row_list)"
   ]
  },
  {
   "cell_type": "code",
   "execution_count": 215,
   "id": "2d00d7c1",
   "metadata": {},
   "outputs": [
    {
     "data": {
      "text/html": [
       "<div>\n",
       "<style scoped>\n",
       "    .dataframe tbody tr th:only-of-type {\n",
       "        vertical-align: middle;\n",
       "    }\n",
       "\n",
       "    .dataframe tbody tr th {\n",
       "        vertical-align: top;\n",
       "    }\n",
       "\n",
       "    .dataframe thead th {\n",
       "        text-align: right;\n",
       "    }\n",
       "</style>\n",
       "<table border=\"1\" class=\"dataframe\">\n",
       "  <thead>\n",
       "    <tr style=\"text-align: right;\">\n",
       "      <th></th>\n",
       "      <th>0</th>\n",
       "      <th>1</th>\n",
       "      <th>2</th>\n",
       "      <th>3</th>\n",
       "      <th>4</th>\n",
       "      <th>5</th>\n",
       "      <th>6</th>\n",
       "      <th>7</th>\n",
       "      <th>8</th>\n",
       "      <th>9</th>\n",
       "      <th>...</th>\n",
       "      <th>1672</th>\n",
       "      <th>1673</th>\n",
       "      <th>1674</th>\n",
       "      <th>1675</th>\n",
       "      <th>1676</th>\n",
       "      <th>1677</th>\n",
       "      <th>1678</th>\n",
       "      <th>1679</th>\n",
       "      <th>1680</th>\n",
       "      <th>1681</th>\n",
       "    </tr>\n",
       "  </thead>\n",
       "  <tbody>\n",
       "    <tr>\n",
       "      <th>0</th>\n",
       "      <td>3.924128</td>\n",
       "      <td>3.208687</td>\n",
       "      <td>3.133694</td>\n",
       "      <td>3.521134</td>\n",
       "      <td>3.273904</td>\n",
       "      <td>3.562500</td>\n",
       "      <td>3.736417</td>\n",
       "      <td>3.612495</td>\n",
       "      <td>3.992860</td>\n",
       "      <td>3.706534</td>\n",
       "      <td>...</td>\n",
       "      <td>0.0</td>\n",
       "      <td>4.0</td>\n",
       "      <td>0.0</td>\n",
       "      <td>2.0</td>\n",
       "      <td>3.0</td>\n",
       "      <td>1.0</td>\n",
       "      <td>3.0</td>\n",
       "      <td>2.0</td>\n",
       "      <td>0.0</td>\n",
       "      <td>0.0</td>\n",
       "    </tr>\n",
       "    <tr>\n",
       "      <th>1</th>\n",
       "      <td>4.299634</td>\n",
       "      <td>3.321763</td>\n",
       "      <td>2.838497</td>\n",
       "      <td>3.822294</td>\n",
       "      <td>3.272599</td>\n",
       "      <td>3.562500</td>\n",
       "      <td>4.075196</td>\n",
       "      <td>4.401070</td>\n",
       "      <td>4.289827</td>\n",
       "      <td>4.051684</td>\n",
       "      <td>...</td>\n",
       "      <td>0.0</td>\n",
       "      <td>4.0</td>\n",
       "      <td>0.0</td>\n",
       "      <td>2.0</td>\n",
       "      <td>3.0</td>\n",
       "      <td>1.0</td>\n",
       "      <td>3.0</td>\n",
       "      <td>2.0</td>\n",
       "      <td>0.0</td>\n",
       "      <td>0.0</td>\n",
       "    </tr>\n",
       "    <tr>\n",
       "      <th>2</th>\n",
       "      <td>3.836325</td>\n",
       "      <td>3.291667</td>\n",
       "      <td>3.060606</td>\n",
       "      <td>3.552795</td>\n",
       "      <td>3.348485</td>\n",
       "      <td>3.562500</td>\n",
       "      <td>4.004617</td>\n",
       "      <td>4.029762</td>\n",
       "      <td>4.495158</td>\n",
       "      <td>3.725807</td>\n",
       "      <td>...</td>\n",
       "      <td>0.0</td>\n",
       "      <td>4.0</td>\n",
       "      <td>0.0</td>\n",
       "      <td>2.0</td>\n",
       "      <td>3.0</td>\n",
       "      <td>1.0</td>\n",
       "      <td>3.0</td>\n",
       "      <td>2.0</td>\n",
       "      <td>0.0</td>\n",
       "      <td>0.0</td>\n",
       "    </tr>\n",
       "    <tr>\n",
       "      <th>3</th>\n",
       "      <td>3.857971</td>\n",
       "      <td>3.291667</td>\n",
       "      <td>3.060606</td>\n",
       "      <td>3.552795</td>\n",
       "      <td>3.348485</td>\n",
       "      <td>3.562500</td>\n",
       "      <td>3.805461</td>\n",
       "      <td>4.029762</td>\n",
       "      <td>3.981308</td>\n",
       "      <td>3.785714</td>\n",
       "      <td>...</td>\n",
       "      <td>0.0</td>\n",
       "      <td>4.0</td>\n",
       "      <td>0.0</td>\n",
       "      <td>2.0</td>\n",
       "      <td>3.0</td>\n",
       "      <td>1.0</td>\n",
       "      <td>3.0</td>\n",
       "      <td>2.0</td>\n",
       "      <td>0.0</td>\n",
       "      <td>0.0</td>\n",
       "    </tr>\n",
       "    <tr>\n",
       "      <th>4</th>\n",
       "      <td>3.772190</td>\n",
       "      <td>3.291667</td>\n",
       "      <td>3.060606</td>\n",
       "      <td>3.552795</td>\n",
       "      <td>3.348485</td>\n",
       "      <td>3.562500</td>\n",
       "      <td>3.825303</td>\n",
       "      <td>4.029762</td>\n",
       "      <td>3.983215</td>\n",
       "      <td>3.785714</td>\n",
       "      <td>...</td>\n",
       "      <td>0.0</td>\n",
       "      <td>4.0</td>\n",
       "      <td>0.0</td>\n",
       "      <td>2.0</td>\n",
       "      <td>3.0</td>\n",
       "      <td>1.0</td>\n",
       "      <td>3.0</td>\n",
       "      <td>2.0</td>\n",
       "      <td>0.0</td>\n",
       "      <td>0.0</td>\n",
       "    </tr>\n",
       "    <tr>\n",
       "      <th>...</th>\n",
       "      <td>...</td>\n",
       "      <td>...</td>\n",
       "      <td>...</td>\n",
       "      <td>...</td>\n",
       "      <td>...</td>\n",
       "      <td>...</td>\n",
       "      <td>...</td>\n",
       "      <td>...</td>\n",
       "      <td>...</td>\n",
       "      <td>...</td>\n",
       "      <td>...</td>\n",
       "      <td>...</td>\n",
       "      <td>...</td>\n",
       "      <td>...</td>\n",
       "      <td>...</td>\n",
       "      <td>...</td>\n",
       "      <td>...</td>\n",
       "      <td>...</td>\n",
       "      <td>...</td>\n",
       "      <td>...</td>\n",
       "      <td>...</td>\n",
       "    </tr>\n",
       "    <tr>\n",
       "      <th>938</th>\n",
       "      <td>3.460948</td>\n",
       "      <td>3.291667</td>\n",
       "      <td>3.343841</td>\n",
       "      <td>3.552795</td>\n",
       "      <td>3.348485</td>\n",
       "      <td>3.562500</td>\n",
       "      <td>3.416584</td>\n",
       "      <td>4.029762</td>\n",
       "      <td>3.689207</td>\n",
       "      <td>3.785714</td>\n",
       "      <td>...</td>\n",
       "      <td>0.0</td>\n",
       "      <td>4.0</td>\n",
       "      <td>0.0</td>\n",
       "      <td>2.0</td>\n",
       "      <td>3.0</td>\n",
       "      <td>1.0</td>\n",
       "      <td>3.0</td>\n",
       "      <td>2.0</td>\n",
       "      <td>0.0</td>\n",
       "      <td>0.0</td>\n",
       "    </tr>\n",
       "    <tr>\n",
       "      <th>939</th>\n",
       "      <td>3.655026</td>\n",
       "      <td>3.291667</td>\n",
       "      <td>2.954566</td>\n",
       "      <td>3.552795</td>\n",
       "      <td>3.348485</td>\n",
       "      <td>3.306299</td>\n",
       "      <td>3.367715</td>\n",
       "      <td>4.029762</td>\n",
       "      <td>2.998198</td>\n",
       "      <td>3.723682</td>\n",
       "      <td>...</td>\n",
       "      <td>0.0</td>\n",
       "      <td>4.0</td>\n",
       "      <td>0.0</td>\n",
       "      <td>2.0</td>\n",
       "      <td>3.0</td>\n",
       "      <td>1.0</td>\n",
       "      <td>3.0</td>\n",
       "      <td>2.0</td>\n",
       "      <td>0.0</td>\n",
       "      <td>0.0</td>\n",
       "    </tr>\n",
       "    <tr>\n",
       "      <th>940</th>\n",
       "      <td>3.724041</td>\n",
       "      <td>3.100490</td>\n",
       "      <td>3.060606</td>\n",
       "      <td>3.972799</td>\n",
       "      <td>3.210863</td>\n",
       "      <td>3.410403</td>\n",
       "      <td>3.998340</td>\n",
       "      <td>4.101767</td>\n",
       "      <td>4.089504</td>\n",
       "      <td>3.785714</td>\n",
       "      <td>...</td>\n",
       "      <td>0.0</td>\n",
       "      <td>4.0</td>\n",
       "      <td>0.0</td>\n",
       "      <td>2.0</td>\n",
       "      <td>3.0</td>\n",
       "      <td>1.0</td>\n",
       "      <td>3.0</td>\n",
       "      <td>2.0</td>\n",
       "      <td>0.0</td>\n",
       "      <td>0.0</td>\n",
       "    </tr>\n",
       "    <tr>\n",
       "      <th>941</th>\n",
       "      <td>3.575094</td>\n",
       "      <td>3.291667</td>\n",
       "      <td>3.054411</td>\n",
       "      <td>3.552795</td>\n",
       "      <td>3.348485</td>\n",
       "      <td>3.562500</td>\n",
       "      <td>4.024088</td>\n",
       "      <td>4.029762</td>\n",
       "      <td>3.880084</td>\n",
       "      <td>3.785714</td>\n",
       "      <td>...</td>\n",
       "      <td>0.0</td>\n",
       "      <td>4.0</td>\n",
       "      <td>0.0</td>\n",
       "      <td>2.0</td>\n",
       "      <td>3.0</td>\n",
       "      <td>1.0</td>\n",
       "      <td>3.0</td>\n",
       "      <td>2.0</td>\n",
       "      <td>0.0</td>\n",
       "      <td>0.0</td>\n",
       "    </tr>\n",
       "    <tr>\n",
       "      <th>942</th>\n",
       "      <td>3.921920</td>\n",
       "      <td>3.059048</td>\n",
       "      <td>3.060606</td>\n",
       "      <td>3.793820</td>\n",
       "      <td>3.348485</td>\n",
       "      <td>3.562500</td>\n",
       "      <td>3.948481</td>\n",
       "      <td>4.217791</td>\n",
       "      <td>4.193085</td>\n",
       "      <td>3.785714</td>\n",
       "      <td>...</td>\n",
       "      <td>0.0</td>\n",
       "      <td>4.0</td>\n",
       "      <td>0.0</td>\n",
       "      <td>2.0</td>\n",
       "      <td>3.0</td>\n",
       "      <td>1.0</td>\n",
       "      <td>3.0</td>\n",
       "      <td>2.0</td>\n",
       "      <td>0.0</td>\n",
       "      <td>0.0</td>\n",
       "    </tr>\n",
       "  </tbody>\n",
       "</table>\n",
       "<p>943 rows × 1682 columns</p>\n",
       "</div>"
      ],
      "text/plain": [
       "         0         1         2         3         4         5         6     \\\n",
       "0    3.924128  3.208687  3.133694  3.521134  3.273904  3.562500  3.736417   \n",
       "1    4.299634  3.321763  2.838497  3.822294  3.272599  3.562500  4.075196   \n",
       "2    3.836325  3.291667  3.060606  3.552795  3.348485  3.562500  4.004617   \n",
       "3    3.857971  3.291667  3.060606  3.552795  3.348485  3.562500  3.805461   \n",
       "4    3.772190  3.291667  3.060606  3.552795  3.348485  3.562500  3.825303   \n",
       "..        ...       ...       ...       ...       ...       ...       ...   \n",
       "938  3.460948  3.291667  3.343841  3.552795  3.348485  3.562500  3.416584   \n",
       "939  3.655026  3.291667  2.954566  3.552795  3.348485  3.306299  3.367715   \n",
       "940  3.724041  3.100490  3.060606  3.972799  3.210863  3.410403  3.998340   \n",
       "941  3.575094  3.291667  3.054411  3.552795  3.348485  3.562500  4.024088   \n",
       "942  3.921920  3.059048  3.060606  3.793820  3.348485  3.562500  3.948481   \n",
       "\n",
       "         7         8         9     ...  1672  1673  1674  1675  1676  1677  \\\n",
       "0    3.612495  3.992860  3.706534  ...   0.0   4.0   0.0   2.0   3.0   1.0   \n",
       "1    4.401070  4.289827  4.051684  ...   0.0   4.0   0.0   2.0   3.0   1.0   \n",
       "2    4.029762  4.495158  3.725807  ...   0.0   4.0   0.0   2.0   3.0   1.0   \n",
       "3    4.029762  3.981308  3.785714  ...   0.0   4.0   0.0   2.0   3.0   1.0   \n",
       "4    4.029762  3.983215  3.785714  ...   0.0   4.0   0.0   2.0   3.0   1.0   \n",
       "..        ...       ...       ...  ...   ...   ...   ...   ...   ...   ...   \n",
       "938  4.029762  3.689207  3.785714  ...   0.0   4.0   0.0   2.0   3.0   1.0   \n",
       "939  4.029762  2.998198  3.723682  ...   0.0   4.0   0.0   2.0   3.0   1.0   \n",
       "940  4.101767  4.089504  3.785714  ...   0.0   4.0   0.0   2.0   3.0   1.0   \n",
       "941  4.029762  3.880084  3.785714  ...   0.0   4.0   0.0   2.0   3.0   1.0   \n",
       "942  4.217791  4.193085  3.785714  ...   0.0   4.0   0.0   2.0   3.0   1.0   \n",
       "\n",
       "     1678  1679  1680  1681  \n",
       "0     3.0   2.0   0.0   0.0  \n",
       "1     3.0   2.0   0.0   0.0  \n",
       "2     3.0   2.0   0.0   0.0  \n",
       "3     3.0   2.0   0.0   0.0  \n",
       "4     3.0   2.0   0.0   0.0  \n",
       "..    ...   ...   ...   ...  \n",
       "938   3.0   2.0   0.0   0.0  \n",
       "939   3.0   2.0   0.0   0.0  \n",
       "940   3.0   2.0   0.0   0.0  \n",
       "941   3.0   2.0   0.0   0.0  \n",
       "942   3.0   2.0   0.0   0.0  \n",
       "\n",
       "[943 rows x 1682 columns]"
      ]
     },
     "execution_count": 215,
     "metadata": {},
     "output_type": "execute_result"
    }
   ],
   "source": [
    "knn_pred"
   ]
  },
  {
   "cell_type": "code",
   "execution_count": 219,
   "id": "d43a5f7f",
   "metadata": {},
   "outputs": [
    {
     "name": "stdout",
     "output_type": "stream",
     "text": [
      "1.035943988821074\n"
     ]
    }
   ],
   "source": [
    "knn_pred_list = []\n",
    "for _,row in test_data.iterrows():\n",
    "    user = row['user_id'] - 1\n",
    "    item = row['item_id'] - 1\n",
    "    pred_rating = knn_pred.iloc[user][item]\n",
    "    knn_pred_list.append(pred_rating)"
   ]
  },
  {
   "cell_type": "code",
   "execution_count": 221,
   "id": "cb54722e",
   "metadata": {},
   "outputs": [
    {
     "name": "stdout",
     "output_type": "stream",
     "text": [
      "RMSE of the Memory-Based Collaborative Filtering Model (n = 10): 1.035943988821074\n"
     ]
    }
   ],
   "source": [
    "model3_rmse = rmse(test_data['rating'], knn_pred_list)\n",
    "print(\"RMSE of the Memory-Based Collaborative Filtering Model (n = 10): \" + str(model3_rmse))"
   ]
  },
  {
   "cell_type": "markdown",
   "id": "ac40098c",
   "metadata": {},
   "source": [
    "##### 3.2.2 Hyperparameter Tuning on k Neighbors"
   ]
  },
  {
   "cell_type": "markdown",
   "id": "c1e03009",
   "metadata": {},
   "source": [
    "The above model with k = 10 gives us a RMSE of 1.035. We could adjust the k value for potential improvement"
   ]
  },
  {
   "cell_type": "code",
   "execution_count": 223,
   "id": "eb071d32",
   "metadata": {},
   "outputs": [],
   "source": [
    "def knn_matrix(k):\n",
    "    row_list = []\n",
    "    for user in range(n_users):\n",
    "        itemPred = predict_user_rating(user, k)\n",
    "        row_list.append(itemPred)\n",
    "    knn_mat = pd.DataFrame(row_list)\n",
    "    return knn_mat"
   ]
  },
  {
   "cell_type": "code",
   "execution_count": 224,
   "id": "e22dfa4a",
   "metadata": {},
   "outputs": [],
   "source": [
    "def knn_k(k):\n",
    "    knn_mat = knn_matrix(k)\n",
    "    pred = []\n",
    "    for _,row in test_data.iterrows():\n",
    "        user = row['user_id']\n",
    "        item = row['item_id']\n",
    "        pred_rating = knn_mat.iloc[user-1][item-1] \n",
    "        pred.append(pred_rating)\n",
    "    rmse_k = rmse(test_data['rating'], pred)\n",
    "    return pred, rmse_k"
   ]
  },
  {
   "cell_type": "code",
   "execution_count": 259,
   "id": "9e792be5",
   "metadata": {},
   "outputs": [],
   "source": [
    "rmse_res = pd.DataFrame({'k':[], 'rmse':[]})\n",
    "for k in [10, 30, 50, 100, 200, 300, 500, 800, n_users-1\n",
    "         ]:  \n",
    "    pred, k_rmse = knn_k(k)\n",
    "    rmse_res = rmse_res.append({'k': k, 'rmse': k_rmse}, ignore_index=True)"
   ]
  },
  {
   "cell_type": "code",
   "execution_count": 260,
   "id": "ebd8a50d",
   "metadata": {},
   "outputs": [
    {
     "data": {
      "text/html": [
       "<div>\n",
       "<style scoped>\n",
       "    .dataframe tbody tr th:only-of-type {\n",
       "        vertical-align: middle;\n",
       "    }\n",
       "\n",
       "    .dataframe tbody tr th {\n",
       "        vertical-align: top;\n",
       "    }\n",
       "\n",
       "    .dataframe thead th {\n",
       "        text-align: right;\n",
       "    }\n",
       "</style>\n",
       "<table border=\"1\" class=\"dataframe\">\n",
       "  <thead>\n",
       "    <tr style=\"text-align: right;\">\n",
       "      <th></th>\n",
       "      <th>k</th>\n",
       "      <th>rmse</th>\n",
       "    </tr>\n",
       "  </thead>\n",
       "  <tbody>\n",
       "    <tr>\n",
       "      <th>0</th>\n",
       "      <td>10.0</td>\n",
       "      <td>1.035944</td>\n",
       "    </tr>\n",
       "    <tr>\n",
       "      <th>1</th>\n",
       "      <td>30.0</td>\n",
       "      <td>1.030327</td>\n",
       "    </tr>\n",
       "    <tr>\n",
       "      <th>2</th>\n",
       "      <td>50.0</td>\n",
       "      <td>1.029308</td>\n",
       "    </tr>\n",
       "    <tr>\n",
       "      <th>3</th>\n",
       "      <td>100.0</td>\n",
       "      <td>1.028334</td>\n",
       "    </tr>\n",
       "    <tr>\n",
       "      <th>4</th>\n",
       "      <td>200.0</td>\n",
       "      <td>1.027871</td>\n",
       "    </tr>\n",
       "    <tr>\n",
       "      <th>5</th>\n",
       "      <td>300.0</td>\n",
       "      <td>1.027642</td>\n",
       "    </tr>\n",
       "    <tr>\n",
       "      <th>6</th>\n",
       "      <td>500.0</td>\n",
       "      <td>1.027554</td>\n",
       "    </tr>\n",
       "    <tr>\n",
       "      <th>7</th>\n",
       "      <td>800.0</td>\n",
       "      <td>1.027458</td>\n",
       "    </tr>\n",
       "    <tr>\n",
       "      <th>8</th>\n",
       "      <td>942.0</td>\n",
       "      <td>1.027389</td>\n",
       "    </tr>\n",
       "  </tbody>\n",
       "</table>\n",
       "</div>"
      ],
      "text/plain": [
       "       k      rmse\n",
       "0   10.0  1.035944\n",
       "1   30.0  1.030327\n",
       "2   50.0  1.029308\n",
       "3  100.0  1.028334\n",
       "4  200.0  1.027871\n",
       "5  300.0  1.027642\n",
       "6  500.0  1.027554\n",
       "7  800.0  1.027458\n",
       "8  942.0  1.027389"
      ]
     },
     "execution_count": 260,
     "metadata": {},
     "output_type": "execute_result"
    }
   ],
   "source": [
    "rmse_res"
   ]
  },
  {
   "cell_type": "code",
   "execution_count": 261,
   "id": "dc65f5f6",
   "metadata": {},
   "outputs": [
    {
     "data": {
      "text/plain": [
       "Text(0, 0.5, 'RMSE')"
      ]
     },
     "execution_count": 261,
     "metadata": {},
     "output_type": "execute_result"
    },
    {
     "data": {
      "image/png": "[encoded data removed]",
      "text/plain": [
       "<Figure size 432x288 with 1 Axes>"
      ]
     },
     "metadata": {
      "needs_background": "light"
     },
     "output_type": "display_data"
    }
   ],
   "source": [
    "knn_min_x = rmse_res.loc[np.argmin(rmse_res.rmse)]['k']\n",
    "knn_min_y = np.min(rmse_res.rmse)\n",
    "\n",
    "plt.plot(rmse_res['k'], rmse_res['rmse'])\n",
    "plt.scatter(knn_min_x, knn_min_y,c='r', label='minimum')\n",
    "plt.legend()\n",
    "plt.xlabel('K')\n",
    "plt.ylabel(\"RMSE\")"
   ]
  },
  {
   "cell_type": "code",
   "execution_count": 262,
   "id": "f7bfe426",
   "metadata": {},
   "outputs": [
    {
     "data": {
      "text/plain": [
       "(942.0, 1.0273885966031988)"
      ]
     },
     "execution_count": 262,
     "metadata": {},
     "output_type": "execute_result"
    }
   ],
   "source": [
    "knn_min_x, knn_min_y"
   ]
  },
  {
   "cell_type": "code",
   "execution_count": 263,
   "id": "cd5ffad6",
   "metadata": {},
   "outputs": [
    {
     "name": "stdout",
     "output_type": "stream",
     "text": [
      "RMSE of the Model-Based Collaborative Filtering Model (k = 13): 1.0273885966031988\n",
      "Time Cost of the Model-Based Collaborative Filtering Model (k = 13): 6.271432041998196\n"
     ]
    }
   ],
   "source": [
    "# 200 seems to be the elbow\n",
    "# k = 200\n",
    "model4_start = timeit.default_timer()\n",
    "model4_pred, model4_rmse = knn_k(k)\n",
    "model4_end = timeit.default_timer()\n",
    "model4_time = model4_end - model4_start\n",
    "print(\"RMSE of the Model-Based Collaborative Filtering Model (k = 13): \" + str(model4_rmse))\n",
    "print(\"Time Cost of the Model-Based Collaborative Filtering Model (k = 13): \" + str(model4_time))"
   ]
  },
  {
   "cell_type": "markdown",
   "id": "1759401d",
   "metadata": {},
   "source": [
    "### PART IV: Model Comparison"
   ]
  },
  {
   "cell_type": "code",
   "execution_count": 278,
   "id": "0b773b7e",
   "metadata": {},
   "outputs": [],
   "source": [
    "metric = [['Model 1', 'Model-Based', 'K = 10', model1_rmse, \"-\"],\n",
    "         ['Model 2', 'Model-Based', ' K = 13', model2_rmse, model2_time],\n",
    "         ['Model 3', 'Memory-Based', 'K = 20', model3_rmse, '-'],\n",
    "         ['Model 4', 'Memory-Based', 'K = 200', model4_rmse, model4_time]]\n",
    "model_compare = pd.DataFrame(metric, columns = ['Model', \"Algorithm\", \"Param\", \"RMSE\", \"Time\"])"
   ]
  },
  {
   "cell_type": "code",
   "execution_count": 279,
   "id": "284b11f0",
   "metadata": {},
   "outputs": [
    {
     "data": {
      "text/html": [
       "<div>\n",
       "<style scoped>\n",
       "    .dataframe tbody tr th:only-of-type {\n",
       "        vertical-align: middle;\n",
       "    }\n",
       "\n",
       "    .dataframe tbody tr th {\n",
       "        vertical-align: top;\n",
       "    }\n",
       "\n",
       "    .dataframe thead th {\n",
       "        text-align: right;\n",
       "    }\n",
       "</style>\n",
       "<table border=\"1\" class=\"dataframe\">\n",
       "  <thead>\n",
       "    <tr style=\"text-align: right;\">\n",
       "      <th></th>\n",
       "      <th>Model</th>\n",
       "      <th>Algorithm</th>\n",
       "      <th>Param</th>\n",
       "      <th>RMSE</th>\n",
       "      <th>Time</th>\n",
       "    </tr>\n",
       "  </thead>\n",
       "  <tbody>\n",
       "    <tr>\n",
       "      <th>0</th>\n",
       "      <td>Model 1</td>\n",
       "      <td>Model-Based</td>\n",
       "      <td>K = 10</td>\n",
       "      <td>1.025971</td>\n",
       "      <td>-</td>\n",
       "    </tr>\n",
       "    <tr>\n",
       "      <th>1</th>\n",
       "      <td>Model 2</td>\n",
       "      <td>Model-Based</td>\n",
       "      <td>K = 13</td>\n",
       "      <td>1.025929</td>\n",
       "      <td>1.344785</td>\n",
       "    </tr>\n",
       "    <tr>\n",
       "      <th>2</th>\n",
       "      <td>Model 3</td>\n",
       "      <td>Memory-Based</td>\n",
       "      <td>K = 20</td>\n",
       "      <td>1.035944</td>\n",
       "      <td>-</td>\n",
       "    </tr>\n",
       "    <tr>\n",
       "      <th>3</th>\n",
       "      <td>Model 4</td>\n",
       "      <td>Memory-Based</td>\n",
       "      <td>K = 200</td>\n",
       "      <td>1.027389</td>\n",
       "      <td>6.271432</td>\n",
       "    </tr>\n",
       "  </tbody>\n",
       "</table>\n",
       "</div>"
      ],
      "text/plain": [
       "     Model     Algorithm    Param      RMSE      Time\n",
       "0  Model 1   Model-Based   K = 10  1.025971         -\n",
       "1  Model 2   Model-Based   K = 13  1.025929  1.344785\n",
       "2  Model 3  Memory-Based   K = 20  1.035944         -\n",
       "3  Model 4  Memory-Based  K = 200  1.027389  6.271432"
      ]
     },
     "execution_count": 279,
     "metadata": {},
     "output_type": "execute_result"
    }
   ],
   "source": [
    "model_compare"
   ]
  },
  {
   "cell_type": "markdown",
   "id": "9490d425",
   "metadata": {},
   "source": [
    "##### Comparison Based on RMSE\n",
    "Following conclusions could be generated based on RMSE metric\n",
    "- The best model is Model-Based CF model with tunned k (When k = 13).\n",
    "- The worst model is the Memory Item-Based model.\n",
    "- Even without tuning k, the Model-Based models generally perform better than Memory-Based models. From previous hyperparameter tunning, we can see that RMSE of Model-Based models almost never exceed 1.027 for most k.\n",
    "\n",
    "##### Comparison Based on Time Cost\n",
    "- The time cost difference among different models is quite significant. \n",
    "- Given the current dataset, the best model in terms of time cost is stil the Model-Based CF model.\n",
    "- According to some research paper on collabrative filtering (Aditya, P. H., Budi, I.& Munajat, Q., 2016), the computation time varies a lot between the Memory-Based model and the Model-Based model. The Model-Based approach is 10 times faster than the Memory-Based approach. (Reference: https://qoribmunajat.github.io/files/comparative-analysis-memory-based-model-based-recommendation-systems.pdf)\n",
    "\n",
    "##### Comparison Based on Explanability\n",
    "- The Memory-based model is easier to explain and interpret since it is based on similaity among items and users.\n",
    "- The Model-based model is difficult to interpret since SVD performs dimension reduction. Meanings of latent factors are not clear.\n",
    "\n",
    "##### Comparison Based on Scalability\n",
    "- The Memory-based model is less scalable due to the sparsity problem. As the number of users and the number of items grow, there will be lots of zeros in the matrix (Grover, P. 2017).\n",
    "- The Model-based model handles the sparsity with dimension reduction well. (Reference: https://towardsdatascience.com/various-implementations-of-collaborative-filtering-100385c6dfe0)\n",
    "\n",
    "##### Comparison Based on Perceived Recommendation Relevance\n",
    "- In the same study mentioned above, the researchers concluded that in terms of users' perceived relevance of recommendation, model-based is also better than the memory based."
   ]
  },
  {
   "cell_type": "markdown",
   "id": "e7c0d403",
   "metadata": {},
   "source": [
    "### PART IV: Problem"
   ]
  },
  {
   "cell_type": "markdown",
   "id": "3d0c4d8f",
   "metadata": {},
   "source": [
    "For the above collaborative filtering algorithms, they all face the same problem, which is the cold start problem. For new users and new items, there is no past rating records, it is impossible to calculate similarity.\n",
    "\n",
    "To solve this problem, I implemented the Content-Based filtering in the next section. The recommendation is based on genre, popularity, rating. Similarity is not needed in this approach since it essentially give all other users the same similarity score. "
   ]
  },
  {
   "cell_type": "markdown",
   "id": "e3b2bad1",
   "metadata": {},
   "source": [
    "### PART V: Content-Based Filtering"
   ]
  },
  {
   "cell_type": "code",
   "execution_count": 280,
   "id": "1ba58265",
   "metadata": {},
   "outputs": [
    {
     "data": {
      "text/plain": [
       "['unknown',\n",
       " 'Action',\n",
       " 'Adventure',\n",
       " 'Animation',\n",
       " 'Children',\n",
       " 'Comedy',\n",
       " 'Crime',\n",
       " 'Documentary',\n",
       " 'Drama',\n",
       " 'Fantasy',\n",
       " 'Film-Noir',\n",
       " 'Horror',\n",
       " 'Musical',\n",
       " 'Mystery',\n",
       " 'Romance',\n",
       " 'Sci-Fi',\n",
       " 'Thriller',\n",
       " 'War',\n",
       " 'Western']"
      ]
     },
     "execution_count": 280,
     "metadata": {},
     "output_type": "execute_result"
    }
   ],
   "source": [
    "genre_list = col_names2[-19:]\n",
    "genre_list"
   ]
  },
  {
   "cell_type": "code",
   "execution_count": 284,
   "id": "71292b05",
   "metadata": {},
   "outputs": [
    {
     "data": {
      "image/png": "[encoded data removed]",
      "text/plain": [
       "<Figure size 720x360 with 1 Axes>"
      ]
     },
     "metadata": {
      "needs_background": "light"
     },
     "output_type": "display_data"
    }
   ],
   "source": [
    "count = []\n",
    "for i in genre_list:\n",
    "  genre_based_movies = items[['movie id','movie title',i]]\n",
    "  genre_based_movies = genre_based_movies[genre_based_movies[i] == 1]\n",
    "  count.append(len(genre_based_movies))\n",
    "\n",
    "genre_count = pd.DataFrame({'Movie genre': genre_list, 'Number of movies':count})\n",
    "ax = genre_count.plot.bar(x='Movie genre', y='Number of movies', rot=60, figsize=(10, 5))"
   ]
  },
  {
   "cell_type": "code",
   "execution_count": 285,
   "id": "5ef238f2",
   "metadata": {},
   "outputs": [
    {
     "data": {
      "text/html": [
       "<div>\n",
       "<style scoped>\n",
       "    .dataframe tbody tr th:only-of-type {\n",
       "        vertical-align: middle;\n",
       "    }\n",
       "\n",
       "    .dataframe tbody tr th {\n",
       "        vertical-align: top;\n",
       "    }\n",
       "\n",
       "    .dataframe thead th {\n",
       "        text-align: right;\n",
       "    }\n",
       "</style>\n",
       "<table border=\"1\" class=\"dataframe\">\n",
       "  <thead>\n",
       "    <tr style=\"text-align: right;\">\n",
       "      <th></th>\n",
       "      <th>user_id</th>\n",
       "      <th>item_id</th>\n",
       "      <th>rating</th>\n",
       "      <th>timestamp</th>\n",
       "      <th>movie_title</th>\n",
       "      <th>movie id</th>\n",
       "      <th>movie title</th>\n",
       "      <th>release date</th>\n",
       "      <th>video release date</th>\n",
       "      <th>IMDb URL</th>\n",
       "      <th>...</th>\n",
       "      <th>Fantasy</th>\n",
       "      <th>Film-Noir</th>\n",
       "      <th>Horror</th>\n",
       "      <th>Musical</th>\n",
       "      <th>Mystery</th>\n",
       "      <th>Romance</th>\n",
       "      <th>Sci-Fi</th>\n",
       "      <th>Thriller</th>\n",
       "      <th>War</th>\n",
       "      <th>Western</th>\n",
       "    </tr>\n",
       "  </thead>\n",
       "  <tbody>\n",
       "    <tr>\n",
       "      <th>0</th>\n",
       "      <td>196</td>\n",
       "      <td>242</td>\n",
       "      <td>3</td>\n",
       "      <td>881250949</td>\n",
       "      <td>Kolya (1996)</td>\n",
       "      <td>242</td>\n",
       "      <td>Kolya (1996)</td>\n",
       "      <td>24-Jan-1997</td>\n",
       "      <td>NaN</td>\n",
       "      <td>http://us.imdb.com/M/title-exact?Kolya%20(1996)</td>\n",
       "      <td>...</td>\n",
       "      <td>0</td>\n",
       "      <td>0</td>\n",
       "      <td>0</td>\n",
       "      <td>0</td>\n",
       "      <td>0</td>\n",
       "      <td>0</td>\n",
       "      <td>0</td>\n",
       "      <td>0</td>\n",
       "      <td>0</td>\n",
       "      <td>0</td>\n",
       "    </tr>\n",
       "    <tr>\n",
       "      <th>1</th>\n",
       "      <td>63</td>\n",
       "      <td>242</td>\n",
       "      <td>3</td>\n",
       "      <td>875747190</td>\n",
       "      <td>Kolya (1996)</td>\n",
       "      <td>242</td>\n",
       "      <td>Kolya (1996)</td>\n",
       "      <td>24-Jan-1997</td>\n",
       "      <td>NaN</td>\n",
       "      <td>http://us.imdb.com/M/title-exact?Kolya%20(1996)</td>\n",
       "      <td>...</td>\n",
       "      <td>0</td>\n",
       "      <td>0</td>\n",
       "      <td>0</td>\n",
       "      <td>0</td>\n",
       "      <td>0</td>\n",
       "      <td>0</td>\n",
       "      <td>0</td>\n",
       "      <td>0</td>\n",
       "      <td>0</td>\n",
       "      <td>0</td>\n",
       "    </tr>\n",
       "    <tr>\n",
       "      <th>2</th>\n",
       "      <td>226</td>\n",
       "      <td>242</td>\n",
       "      <td>5</td>\n",
       "      <td>883888671</td>\n",
       "      <td>Kolya (1996)</td>\n",
       "      <td>242</td>\n",
       "      <td>Kolya (1996)</td>\n",
       "      <td>24-Jan-1997</td>\n",
       "      <td>NaN</td>\n",
       "      <td>http://us.imdb.com/M/title-exact?Kolya%20(1996)</td>\n",
       "      <td>...</td>\n",
       "      <td>0</td>\n",
       "      <td>0</td>\n",
       "      <td>0</td>\n",
       "      <td>0</td>\n",
       "      <td>0</td>\n",
       "      <td>0</td>\n",
       "      <td>0</td>\n",
       "      <td>0</td>\n",
       "      <td>0</td>\n",
       "      <td>0</td>\n",
       "    </tr>\n",
       "    <tr>\n",
       "      <th>3</th>\n",
       "      <td>154</td>\n",
       "      <td>242</td>\n",
       "      <td>3</td>\n",
       "      <td>879138235</td>\n",
       "      <td>Kolya (1996)</td>\n",
       "      <td>242</td>\n",
       "      <td>Kolya (1996)</td>\n",
       "      <td>24-Jan-1997</td>\n",
       "      <td>NaN</td>\n",
       "      <td>http://us.imdb.com/M/title-exact?Kolya%20(1996)</td>\n",
       "      <td>...</td>\n",
       "      <td>0</td>\n",
       "      <td>0</td>\n",
       "      <td>0</td>\n",
       "      <td>0</td>\n",
       "      <td>0</td>\n",
       "      <td>0</td>\n",
       "      <td>0</td>\n",
       "      <td>0</td>\n",
       "      <td>0</td>\n",
       "      <td>0</td>\n",
       "    </tr>\n",
       "    <tr>\n",
       "      <th>4</th>\n",
       "      <td>306</td>\n",
       "      <td>242</td>\n",
       "      <td>5</td>\n",
       "      <td>876503793</td>\n",
       "      <td>Kolya (1996)</td>\n",
       "      <td>242</td>\n",
       "      <td>Kolya (1996)</td>\n",
       "      <td>24-Jan-1997</td>\n",
       "      <td>NaN</td>\n",
       "      <td>http://us.imdb.com/M/title-exact?Kolya%20(1996)</td>\n",
       "      <td>...</td>\n",
       "      <td>0</td>\n",
       "      <td>0</td>\n",
       "      <td>0</td>\n",
       "      <td>0</td>\n",
       "      <td>0</td>\n",
       "      <td>0</td>\n",
       "      <td>0</td>\n",
       "      <td>0</td>\n",
       "      <td>0</td>\n",
       "      <td>0</td>\n",
       "    </tr>\n",
       "  </tbody>\n",
       "</table>\n",
       "<p>5 rows × 29 columns</p>\n",
       "</div>"
      ],
      "text/plain": [
       "   user_id  item_id  rating  timestamp   movie_title  movie id   movie title  \\\n",
       "0      196      242       3  881250949  Kolya (1996)       242  Kolya (1996)   \n",
       "1       63      242       3  875747190  Kolya (1996)       242  Kolya (1996)   \n",
       "2      226      242       5  883888671  Kolya (1996)       242  Kolya (1996)   \n",
       "3      154      242       3  879138235  Kolya (1996)       242  Kolya (1996)   \n",
       "4      306      242       5  876503793  Kolya (1996)       242  Kolya (1996)   \n",
       "\n",
       "  release date  video release date  \\\n",
       "0  24-Jan-1997                 NaN   \n",
       "1  24-Jan-1997                 NaN   \n",
       "2  24-Jan-1997                 NaN   \n",
       "3  24-Jan-1997                 NaN   \n",
       "4  24-Jan-1997                 NaN   \n",
       "\n",
       "                                          IMDb URL  ...  Fantasy  Film-Noir  \\\n",
       "0  http://us.imdb.com/M/title-exact?Kolya%20(1996)  ...        0          0   \n",
       "1  http://us.imdb.com/M/title-exact?Kolya%20(1996)  ...        0          0   \n",
       "2  http://us.imdb.com/M/title-exact?Kolya%20(1996)  ...        0          0   \n",
       "3  http://us.imdb.com/M/title-exact?Kolya%20(1996)  ...        0          0   \n",
       "4  http://us.imdb.com/M/title-exact?Kolya%20(1996)  ...        0          0   \n",
       "\n",
       "   Horror  Musical  Mystery  Romance  Sci-Fi  Thriller  War  Western  \n",
       "0       0        0        0        0       0         0    0        0  \n",
       "1       0        0        0        0       0         0    0        0  \n",
       "2       0        0        0        0       0         0    0        0  \n",
       "3       0        0        0        0       0         0    0        0  \n",
       "4       0        0        0        0       0         0    0        0  \n",
       "\n",
       "[5 rows x 29 columns]"
      ]
     },
     "execution_count": 285,
     "metadata": {},
     "output_type": "execute_result"
    }
   ],
   "source": [
    "merged_df = pd.merge(df, items, how = 'inner', left_on='item_id', right_on='movie id')\n",
    "merged_df.head()"
   ]
  },
  {
   "cell_type": "code",
   "execution_count": 286,
   "id": "91e9c517",
   "metadata": {},
   "outputs": [],
   "source": [
    "genre_dict = {}\n",
    "for g in genre_list:\n",
    "    genre_based_movies = merged_df[['movie id','movie title', 'rating',  g]]\n",
    "    genre_based_movies = genre_based_movies[genre_based_movies[g] == 1]\n",
    "    genre_dict[g] = genre_based_movies"
   ]
  },
  {
   "cell_type": "code",
   "execution_count": 287,
   "id": "0772c27d",
   "metadata": {},
   "outputs": [],
   "source": [
    "def recommendations_popularity(genre, k = 10):\n",
    "        genre_based_movies = genre_dict.get(genre)\n",
    "        popular_genre_movies = genre_based_movies.groupby(['movie title']).agg({\"rating\":\"count\"})['rating'].sort_values(ascending=False)\n",
    "        popular_movies_ingenre = popular_genre_movies.to_frame()\n",
    "        popular_movies_ingenre.reset_index(level=0, inplace=True)\n",
    "        popular_movies_ingenre.columns = ['movie title', 'Number of Users watched']\n",
    "        print(\"Top\", k,\"popular movies of the genre:\", genre)\n",
    "        print(\"----- ----- ----- ----- ----- ----- ----- ----- ----- ----- ----- ----- \")\n",
    "        print(popular_movies_ingenre.sort_values('Number of Users watched', ascending=False).head(10))"
   ]
  },
  {
   "cell_type": "code",
   "execution_count": 288,
   "id": "08998034",
   "metadata": {},
   "outputs": [],
   "source": [
    "def recommendations_rating(genre, k = 10):\n",
    "        genre_based_movies = genre_dict.get(genre)\n",
    "        highrate_genre_movies = genre_based_movies.groupby(['movie title']).agg({\"rating\":\"mean\"})['rating'].sort_values(ascending=False)\n",
    "        highrate_movies_ingenre = highrate_genre_movies.to_frame()\n",
    "        highrate_movies_ingenre.reset_index(level=0, inplace=True)\n",
    "        highrate_movies_ingenre.columns = ['movie title', 'Average Rating']\n",
    "        print(\"Top\", k,\"high rating movies of the genre:\", genre)\n",
    "        print(\"----- ----- ----- ----- ----- ----- ----- ----- ----- ----- ----- ----- \")\n",
    "        print(highrate_movies_ingenre.sort_values('Average Rating', ascending=False).head(10))"
   ]
  },
  {
   "cell_type": "code",
   "execution_count": 289,
   "id": "2f2ed659",
   "metadata": {},
   "outputs": [],
   "source": [
    "def recommendations_genre(genre):\n",
    "    print(\"Chosen Genre: \", genre)\n",
    "    print(\"Recommendation by Popularity: \")\n",
    "    recommendations_popularity(genre)\n",
    "    print(\"Recommendation by Rating: \")\n",
    "    recommendations_rating(genre)"
   ]
  },
  {
   "cell_type": "code",
   "execution_count": 290,
   "id": "83e36392",
   "metadata": {},
   "outputs": [
    {
     "name": "stdout",
     "output_type": "stream",
     "text": [
      "Chosen Genre:  Comedy\n",
      "Recommendation by Popularity: \n",
      "Top 10 popular movies of the genre: Comedy\n",
      "----- ----- ----- ----- ----- ----- ----- ----- ----- ----- ----- ----- \n",
      "                                    movie title  Number of Users watched\n",
      "0                              Liar Liar (1997)                      485\n",
      "1                              Toy Story (1995)                      452\n",
      "2                     Back to the Future (1985)                      350\n",
      "3  Willy Wonka and the Chocolate Factory (1971)                      326\n",
      "4                    Princess Bride, The (1987)                      324\n",
      "5                           Forrest Gump (1994)                      321\n",
      "6        Monty Python and the Holy Grail (1974)                      316\n",
      "7                        Full Monty, The (1997)                      315\n",
      "8                           Men in Black (1997)                      303\n",
      "9                          Birdcage, The (1996)                      293\n",
      "Recommendation by Rating: \n",
      "Top 10 high rating movies of the genre: Comedy\n",
      "----- ----- ----- ----- ----- ----- ----- ----- ----- ----- ----- ----- \n",
      "                  movie title  Average Rating\n",
      "0   Santa with Muscles (1996)        5.000000\n",
      "1       Close Shave, A (1995)        4.491071\n",
      "2  Wrong Trousers, The (1993)        4.466102\n",
      "3   North by Northwest (1959)        4.284916\n",
      "4      Shall We Dance? (1996)        4.260870\n",
      "5   As Good As It Gets (1997)        4.196429\n",
      "6      Cinema Paradiso (1988)        4.173554\n",
      "7  Princess Bride, The (1987)        4.172840\n",
      "8  Waiting for Guffman (1996)        4.127660\n",
      "9       A Chef in Love (1996)        4.125000\n"
     ]
    }
   ],
   "source": [
    "recommendations_genre(\"Comedy\")"
   ]
  },
  {
   "cell_type": "markdown",
   "id": "2cc3237b",
   "metadata": {},
   "source": [
    "The Content-Based Filtering comes with several problems\n",
    "- It is hard to test the recommendation without actual experiment.\n",
    "- The recommendation is less personalized as it will give the same result for users who choose the same genre."
   ]
  },
  {
   "cell_type": "markdown",
   "id": "df8be0f7",
   "metadata": {},
   "source": [
    "### PART V: Implementation"
   ]
  },
  {
   "cell_type": "markdown",
   "id": "281605ed",
   "metadata": {},
   "source": [
    "I started this project with the intention to complete the required homework. I had lots of fun while analyzing different approaches of recommendation system. Therefore, I decided to further implement the recommendation system."
   ]
  },
  {
   "cell_type": "markdown",
   "id": "a071a1c6",
   "metadata": {},
   "source": [
    "#### Existing User Recommdation"
   ]
  },
  {
   "cell_type": "markdown",
   "id": "e947309b",
   "metadata": {},
   "source": [
    "Based on previous model comparison and other research studies, I believe the Model-Based Collaborative Filtering would be a better model for predicting preferences of the existing users "
   ]
  },
  {
   "cell_type": "code",
   "execution_count": 389,
   "id": "2d1b6b45",
   "metadata": {},
   "outputs": [],
   "source": [
    "# Functionality: generating user-item matrix with NA filled\n",
    "# Input: \n",
    "    # data: rating records\n",
    "    # n_users: number of users\n",
    "    # n_items: number of items\n",
    "    # user_col: column number of user_id, default = 1\n",
    "    # item_col: column number of item_id, default = 2\n",
    "    # rating_col: column number of rating_id, default = 3\n",
    "    \n",
    "def utility_matrix(data, n_users, n_items, \n",
    "                   user_col = 1, item_col = 2, rating_col = 3):\n",
    "    data_matrix = np.asarray([[np.nan for j in range(n_items)] for i in range(n_users)])\n",
    "    for row in data.itertuples():\n",
    "        user = row[user_col]-1\n",
    "        item = row[item_col]-1\n",
    "        data_matrix[user][item] = row[rating_col]\n",
    "    return data_matrix"
   ]
  },
  {
   "cell_type": "code",
   "execution_count": 422,
   "id": "e6b02478",
   "metadata": {},
   "outputs": [],
   "source": [
    "# Functionality: Using svd to generate predition matrix\n",
    "# Input: \n",
    "    # util_mat: utility matrix where columns are items, rows are users\n",
    "    # k: number of latent factors used, default = 13\n",
    "    \n",
    "def svd_prediction(util_mat, k = 13):\n",
    "    data_matrix_normed, user_mean, item_mean = matrixTransform(util_mat)\n",
    "    svd_pred = svd(data_matrix_normed, k,item_mean)\n",
    "    return pd.DataFrame(svd_pred)"
   ]
  },
  {
   "cell_type": "code",
   "execution_count": 439,
   "id": "2d1f1f20",
   "metadata": {},
   "outputs": [],
   "source": [
    "# Functionality: generate recommended movies based on svd prediction\n",
    "# Input: \n",
    "    # pred: prediction matrix generated from svd\n",
    "    # user_id: user_id\n",
    "    # numOfMovies: number of movies to recommend, default = 20\n",
    "    \n",
    "def svd_generate_movies(pred, user_id, numOfMovies = 20):\n",
    "    user_rating = pred.iloc[user_id - 1, :]\n",
    "    toplist = user_rating.sort_values(ascending = False).head(numOfMovies)\n",
    "    toplist = pd.DataFrame(toplist).reset_index().rename(columns = {\"index\" : \"movie_id\"})\n",
    "    recommend_movies = toplist.movie_id.to_list()\n",
    "    movie_name = []\n",
    "    for i in recommend_movies:\n",
    "        movie_name.append(movie_map.get(i+1))\n",
    "    return movie_name"
   ]
  },
  {
   "cell_type": "code",
   "execution_count": 440,
   "id": "d07751e7",
   "metadata": {},
   "outputs": [],
   "source": [
    "user_item_matrix = utility_matrix(df, n_users, n_items)"
   ]
  },
  {
   "cell_type": "code",
   "execution_count": 172,
   "id": "9382cb7d",
   "metadata": {},
   "outputs": [],
   "source": [
    "pred = svd_prediction(user_item_matrix)"
   ]
  },
  {
   "cell_type": "code",
   "execution_count": 441,
   "id": "84e63249",
   "metadata": {},
   "outputs": [],
   "source": [
    "# Functionality: print out recommendations to users\n",
    "# Input: \n",
    "    # user_id: user_id\n",
    "\n",
    "def recommendation_existingUsers(user_id):\n",
    "    print(\" \")\n",
    "    numOfRecom = int(input(\"Please enter the number of movie recommendations needed: \"))\n",
    "    print(\"Recommendation for User: \", user_id)\n",
    "    # if the svd matrix has not been calculated\n",
    "    if 'svd_matrix' not in globals():\n",
    "        global user_item_matrix\n",
    "        global svd_matrix\n",
    "        user_item_matrix = utility_matrix(df, n_users, n_items)\n",
    "        svd_matrix = svd_prediction(user_item_matrix)\n",
    "    rec = svd_generate_movies(svd_matrix, user_id, numOfRecom)\n",
    "    print(\"Top\", numOfRecom, \"Movie Recommendation\")\n",
    "    print(\"----- ----- ----- ----- -----\")\n",
    "    for i in range(1, len(rec)+1):\n",
    "        print(i, \"   \", rec[i-1])    "
   ]
  },
  {
   "cell_type": "code",
   "execution_count": 442,
   "id": "81b2f3e9",
   "metadata": {},
   "outputs": [
    {
     "name": "stdout",
     "output_type": "stream",
     "text": [
      " \n",
      "Please enter the number of movie recommendations needed: 20\n",
      "Recommendation for User:  22\n",
      "Top 20 Movie Recommendation\n",
      "----- ----- ----- ----- -----\n",
      "1     Aiqing wansui (1994)\n",
      "2     Great Day in Harlem, A (1994)\n",
      "3     Prefontaine (1997)\n",
      "4     Star Kid (1997)\n",
      "5     Santa with Muscles (1996)\n",
      "6     They Made Me a Criminal (1939)\n",
      "7     Someone Else's America (1995)\n",
      "8     Marlene Dietrich: Shadow and Light (1996) \n",
      "9     Entertaining Angels: The Dorothy Day Story (1996)\n",
      "10     Saint of Fort Washington, The (1993)\n",
      "11     Pather Panchali (1955)\n",
      "12     Maya Lin: A Strong Clear Vision (1994)\n",
      "13     Some Mother's Son (1996)\n",
      "14     Anna (1996)\n",
      "15     Everest (1998)\n",
      "16     Close Shave, A (1995)\n",
      "17     Schindler's List (1993)\n",
      "18     Wrong Trousers, The (1993)\n",
      "19     Casablanca (1942)\n",
      "20     Wallace & Gromit: The Best of Aardman Animation (1996)\n"
     ]
    }
   ],
   "source": [
    "# Test\n",
    "recommendation_existingUsers(22)"
   ]
  },
  {
   "cell_type": "markdown",
   "id": "b948dd42",
   "metadata": {},
   "source": [
    "#### New User Recommdation"
   ]
  },
  {
   "cell_type": "markdown",
   "id": "e4bcbf8c",
   "metadata": {},
   "source": [
    "As explained previously, collaborative filtering has the cold start problem. Therefore, for new users, Content-Based filtering will be used to implement recommendation system for new users."
   ]
  },
  {
   "cell_type": "code",
   "execution_count": 443,
   "id": "05f92b22",
   "metadata": {},
   "outputs": [],
   "source": [
    "# Functionality: generate recommended movies based on chosen genre\n",
    "    \n",
    "def recommendation_newUsers():\n",
    "    print(\" \")\n",
    "    print(\"Genre Code         Genre\")\n",
    "    for i in range(1, len(genre_list)):\n",
    "        print(\"    \",i, \"           \", genre_list[i])\n",
    "    genreCode = int(input(\"Please enter the code of movie genre you like: \"))\n",
    "    genre = genre_list[genreCode]\n",
    "    recommendations_genre(genre)"
   ]
  },
  {
   "cell_type": "code",
   "execution_count": 444,
   "id": "2b350bfe",
   "metadata": {},
   "outputs": [
    {
     "name": "stdout",
     "output_type": "stream",
     "text": [
      " \n",
      "Genre Code         Genre\n",
      "     1             Action\n",
      "     2             Adventure\n",
      "     3             Animation\n",
      "     4             Children\n",
      "     5             Comedy\n",
      "     6             Crime\n",
      "     7             Documentary\n",
      "     8             Drama\n",
      "     9             Fantasy\n",
      "     10             Film-Noir\n",
      "     11             Horror\n",
      "     12             Musical\n",
      "     13             Mystery\n",
      "     14             Romance\n",
      "     15             Sci-Fi\n",
      "     16             Thriller\n",
      "     17             War\n",
      "     18             Western\n",
      "Please enter the code of movie genre you like: 5\n",
      "Chosen Genre:  Comedy\n",
      "Recommendation by Popularity: \n",
      "Top 10 popular movies of the genre: Comedy\n",
      "----- ----- ----- ----- ----- ----- ----- ----- ----- ----- ----- ----- \n",
      "                                    movie title  Number of Users watched\n",
      "0                              Liar Liar (1997)                      485\n",
      "1                              Toy Story (1995)                      452\n",
      "2                     Back to the Future (1985)                      350\n",
      "3  Willy Wonka and the Chocolate Factory (1971)                      326\n",
      "4                    Princess Bride, The (1987)                      324\n",
      "5                           Forrest Gump (1994)                      321\n",
      "6        Monty Python and the Holy Grail (1974)                      316\n",
      "7                        Full Monty, The (1997)                      315\n",
      "8                           Men in Black (1997)                      303\n",
      "9                          Birdcage, The (1996)                      293\n",
      "Recommendation by Rating: \n",
      "Top 10 high rating movies of the genre: Comedy\n",
      "----- ----- ----- ----- ----- ----- ----- ----- ----- ----- ----- ----- \n",
      "                  movie title  Average Rating\n",
      "0   Santa with Muscles (1996)        5.000000\n",
      "1       Close Shave, A (1995)        4.491071\n",
      "2  Wrong Trousers, The (1993)        4.466102\n",
      "3   North by Northwest (1959)        4.284916\n",
      "4      Shall We Dance? (1996)        4.260870\n",
      "5   As Good As It Gets (1997)        4.196429\n",
      "6      Cinema Paradiso (1988)        4.173554\n",
      "7  Princess Bride, The (1987)        4.172840\n",
      "8  Waiting for Guffman (1996)        4.127660\n",
      "9       A Chef in Love (1996)        4.125000\n"
     ]
    }
   ],
   "source": [
    "# Test\n",
    "recommendation_newUsers()"
   ]
  },
  {
   "cell_type": "markdown",
   "id": "c8a8fb46",
   "metadata": {},
   "source": [
    "#### Similar Movie Recommdation"
   ]
  },
  {
   "cell_type": "markdown",
   "id": "8ff5b664",
   "metadata": {},
   "source": [
    "Sometime users would try to find movies similar to one movie. Therefore, the Memory-Item-Based collaborative filtering model would be used to implement recommendation on similar movies"
   ]
  },
  {
   "cell_type": "code",
   "execution_count": 449,
   "id": "b93469e1",
   "metadata": {},
   "outputs": [],
   "source": [
    "# Functionality: generating user-item matrix with zero filled\n",
    "def utility_matrix_zero(data, n_users, n_items):\n",
    "    util_mat = utility_matrix(data, n_users, n_items)\n",
    "    return pd.DataFrame(util_mat).fillna(0)"
   ]
  },
  {
   "cell_type": "code",
   "execution_count": 473,
   "id": "baaf910c",
   "metadata": {},
   "outputs": [],
   "source": [
    "def develop_item_knn_model(data, n_users, n_items):\n",
    "    util_mat = utility_matrix(data, n_users, n_items)\n",
    "    util_mat = pd.DataFrame(util_mat).fillna(0).T\n",
    "    util_mat_sparse = csr_matrix(util_mat)\n",
    "    item_knn_model = NearestNeighbors(metric='cosine', algorithm='brute')\n",
    "    item_knn_model.fit(util_mat_sparse)\n",
    "    return util_mat, item_knn_model"
   ]
  },
  {
   "cell_type": "code",
   "execution_count": 488,
   "id": "d1465e5f",
   "metadata": {},
   "outputs": [],
   "source": [
    "# Functionality: generate recommended movies based on item similarity\n",
    "# Input: \n",
    "    # movie_id: movie_id\n",
    "    # numOfMovies: number of movies to recommend, default = 20\n",
    "\n",
    "def item_generate_movies(movie_id, numOfMovies = 20):\n",
    "    if 'item_knn_model' not in globals():\n",
    "        global movie_user_matrix\n",
    "        global item_knn_model\n",
    "        movie_user_matrix, item_knn_model = develop_item_knn_model(df, n_users, n_items)\n",
    "    knn_input = np.asarray([movie_user_matrix.values[movie_id-1]])\n",
    "    n = min(n_items-1, numOfMovies)\n",
    "    distances, indices = item_knn_model.kneighbors(knn_input, n_neighbors=n+1)\n",
    "    similar_item_list = indices.flatten()[1:]\n",
    "    distance_list = distances.flatten()[1:]\n",
    "    movie_name = []\n",
    "    for i in similar_item_list:\n",
    "        movie_name.append(movie_map.get(i+1))\n",
    "    return movie_name"
   ]
  },
  {
   "cell_type": "code",
   "execution_count": 490,
   "id": "f56177e0",
   "metadata": {},
   "outputs": [],
   "source": [
    "movie_list = df[\"movie_title\"].unique()\n",
    "case_insensitive_movies_list = [i.lower() for i in movie_list]"
   ]
  },
  {
   "cell_type": "code",
   "execution_count": 491,
   "id": "fd1223fa",
   "metadata": {},
   "outputs": [],
   "source": [
    "movie_lower_map = {}\n",
    "for key in movie_map:\n",
    "    val = movie_map.get(key).lower()\n",
    "    movie_lower_map[val] = key"
   ]
  },
  {
   "cell_type": "code",
   "execution_count": 492,
   "id": "ae8b061b",
   "metadata": {},
   "outputs": [],
   "source": [
    "def movies_with_similiar_names(inputName):\n",
    "    name = ''\n",
    "    searchRange = case_insensitive_movies_list.copy()\n",
    "    for word in inputName:\n",
    "        currentRange = []\n",
    "        name += word\n",
    "        for movie in searchRange:\n",
    "            if (name in movie):\n",
    "                currentRange.append(movie)\n",
    "        if len(currentRange) == 0:\n",
    "            return searchRange\n",
    "        searchRange = currentRange.copy()\n",
    "    return searchRange"
   ]
  },
  {
   "cell_type": "code",
   "execution_count": 493,
   "id": "7d589248",
   "metadata": {},
   "outputs": [],
   "source": [
    "def recommendation_movies():\n",
    "    print(\" \")\n",
    "    inputName = input(\"Please enter the name of the movie you like: \")\n",
    "    inputName = inputName.lower()\n",
    "    if inputName in case_insensitive_movies_list:\n",
    "        movie_id = movie_lower_map.get(inputName)\n",
    "        numOfRecom = int(input(\"Please enter the number of movie recommendations needed: \"))\n",
    "        rec = item_generate_movies(movie_id, numOfRecom)\n",
    "        print(\"Top\", numOfRecom, \"Similar to Movie \", movie_map[movie_id])\n",
    "        print(\"----- ----- ----- ----- ----- ----- ----- ----- ----- -----\")\n",
    "        for i in range(1, len(rec)+1):\n",
    "            print(i, \"   \", rec[i-1]) \n",
    "    else:\n",
    "        suggest_list = movies_with_similiar_names(inputName)\n",
    "        if len(suggest_list) == len(movie_list):\n",
    "            print(\"The movie name you entered is not in the database.\")\n",
    "        else:\n",
    "            print(\"The movie name you entered is not found.\")\n",
    "            print(\"Please check the following suggestions: \")\n",
    "            for m in suggest_list:\n",
    "                print(m)\n",
    "            qs = input(\"Please press Q to end, press S to restart searching: \").lower()\n",
    "            if qs == 'q':\n",
    "                return\n",
    "            else:\n",
    "                recommendation_movies()"
   ]
  },
  {
   "cell_type": "code",
   "execution_count": 495,
   "id": "ba4d2c33",
   "metadata": {
    "scrolled": true
   },
   "outputs": [
    {
     "name": "stdout",
     "output_type": "stream",
     "text": [
      " \n",
      "Please enter the name of the movie you like: Empire Strikes Back, The (1980)\n",
      "Please enter the number of movie recommendations needed: 15\n",
      "Top 15 Similar to Movie  Empire Strikes Back, The (1980)\n",
      "----- ----- ----- ----- ----- ----- ----- ----- ----- -----\n",
      "1     Raiders of the Lost Ark (1981)\n",
      "2     Indiana Jones and the Last Crusade (1989)\n",
      "3     Back to the Future (1985)\n",
      "4     Star Wars (1977)\n",
      "5     Terminator, The (1984)\n",
      "6     Return of the Jedi (1983)\n",
      "7     Terminator 2: Judgment Day (1991)\n",
      "8     Princess Bride, The (1987)\n",
      "9     Jurassic Park (1993)\n",
      "10     Fugitive, The (1993)\n",
      "11     Silence of the Lambs, The (1991)\n",
      "12     E.T. the Extra-Terrestrial (1982)\n",
      "13     Star Trek: The Wrath of Khan (1982)\n",
      "14     Alien (1979)\n",
      "15     Blade Runner (1982)\n"
     ]
    }
   ],
   "source": [
    "# Test\n",
    "recommendation_movies()"
   ]
  },
  {
   "cell_type": "markdown",
   "id": "302eb2c0",
   "metadata": {},
   "source": [
    "### PART V: Chanllenges"
   ]
  },
  {
   "cell_type": "markdown",
   "id": "aa4568ff",
   "metadata": {},
   "source": [
    "### PART V: Going Forward"
   ]
  },
  {
   "cell_type": "code",
   "execution_count": null,
   "id": "0e9bb4ed",
   "metadata": {},
   "outputs": [],
   "source": []
  }
 ],
 "metadata": {
  "celltoolbar": "无",
  "kernelspec": {
   "display_name": "Python 3",
   "language": "python",
   "name": "python3"
  },
  "language_info": {
   "codemirror_mode": {
    "name": "ipython",
    "version": 3
   },
   "file_extension": ".py",
   "mimetype": "text/x-python",
   "name": "python",
   "nbconvert_exporter": "python",
   "pygments_lexer": "ipython3",
   "version": "3.8.8"
  }
 },
 "nbformat": 4,
 "nbformat_minor": 5
}
